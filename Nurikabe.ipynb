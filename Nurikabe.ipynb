{
 "cells": [
  {
   "cell_type": "markdown",
   "metadata": {
    "cell_style": "split"
   },
   "source": [
    "<div style='float: right'><img src='pic/nurikabe.png'/></div>\n",
    "## <div id='nurikabe' />ぬりかべ"
   ]
  },
  {
   "cell_type": "code",
   "execution_count": null,
   "metadata": {
    "cell_style": "split",
    "collapsed": true
   },
   "outputs": [],
   "source": [
    "%matplotlib inline\n",
    "import numpy as np, matplotlib.pyplot as plt\n",
    "from itertools import groupby, product\n",
    "from pulp import *\n",
    "from unionfind import unionfind\n",
    "from ortoolpy import addvar, addvars, addbinvar, addbinvars\n",
    "data = \"\"\"\\\n",
    ".3...1.\n",
    ".......\n",
    "2..1...\n",
    ".......\n",
    ".1..2..\n",
    "..2....\n",
    "1...1.6\"\"\".split('\\n')\n",
    "nw, nh = len(data[0]), len(data)"
   ]
  },
  {
   "cell_type": "markdown",
   "metadata": {
    "cell_style": "split"
   },
   "source": [
    "### 問題\n",
    "* 盤面のいくつかのマスを黒くぬります\n",
    "* 数字は、黒マスによって分断されたシマのマスの数を表します\n",
    "* すべてのシマに数字がちょうど１つずつ入ります\n",
    "* 数字が入っているマスを黒くぬってはいけません\n",
    "* すべての黒マスはタテヨコにひとつながりになります\n",
    "* 黒マスを２×２以上のカタマリにしてはいけません\n",
    "\n",
    "### 考え方\n",
    "* 高速に解くために黒マスの数を最大化します"
   ]
  },
  {
   "cell_type": "markdown",
   "metadata": {
    "cell_style": "split"
   },
   "source": [
    "### 変数\n",
    "* vb：0:white, 1:black (1)\n",
    "* 島ごとに可能な候補を作ります\n",
    "  * vt (2)\n",
    "\n",
    "### 制約\n",
    "* 黒マスを２×２以上のカタマリ禁止 (3)\n",
    "* 候補から1つ選びます (4)\n",
    "* 候補を選んだらそのマスは白マスで周りは黒マス (5)\n",
    "* 黒マスが連結していること (6)"
   ]
  },
  {
   "cell_type": "code",
   "execution_count": null,
   "metadata": {
    "collapsed": false
   },
   "outputs": [],
   "source": [
    "m = LpProblem(sense=LpMaximize)\n",
    "vb = np.array(addbinvars(nh, nw)) # 0:white, 1:black (1)\n",
    "m += lpSum(vb.flat) # obj func\n",
    "def dirs(i, j):\n",
    "    return [(i+x-y, j+x+y-1) for y in range(2) for x in range(2)\n",
    "        if 0 <= i+x-y < nh and 0 <= j+x+y-1 < nw]\n",
    "def make(lst, i, j, n, w):\n",
    "    if len(w) == n:\n",
    "        lst.append(w)\n",
    "        return\n",
    "    for a, b in dirs(i, j):\n",
    "        if (a,b) not in w and all([(c,d) == w[0] or data[c][d] == '.' for c,d in dirs(a, b)]):\n",
    "            make(lst, a, b, n, w + [(a,b)])\n",
    "for i, j in product(range(nh), range(nw)):\n",
    "    if i < nh-1 and j < nw-1:\n",
    "        m += lpSum(vb[i:i+2,j:j+2]) <= 3 # (3)\n",
    "    if data[i][j] == '.':\n",
    "        continue\n",
    "    lst = []\n",
    "    make(lst, i, j, int(data[i][j]), [(i,j)])\n",
    "    lst = [u[0] for u in groupby(lst)]\n",
    "    vt = addbinvars(len(lst)) # (2)\n",
    "    m += lpSum(vt) == 1 # (4)\n",
    "    for k, w in enumerate(lst):\n",
    "        bd = list(set([(c,d) for a, b in w for c, d in dirs(a, b) if (c,d) not in w]))\n",
    "        m += (lpSum(vb[y,x] for y,x in w) + len(bd) - lpSum(vb[y,x] for y,x in bd) <=\n",
    "              (len(w)+len(bd)) * (1-vt[k])) # (5)\n",
    "while True:\n",
    "    %time m.solve()\n",
    "    rb = np.vectorize(value)(vb)\n",
    "    if unionfind.isconnected(rb):\n",
    "        break\n",
    "    m += lpSum(vb[rb==0]) >= 1 # (6)\n",
    "plt.imshow(1-rb, cmap='gray', interpolation='none');"
   ]
  }
 ],
 "metadata": {
  "kernelspec": {
   "display_name": "Python [default]",
   "language": "python",
   "name": "python3"
  },
  "language_info": {
   "codemirror_mode": {
    "name": "ipython",
    "version": 3
   },
   "file_extension": ".py",
   "mimetype": "text/x-python",
   "name": "python",
   "nbconvert_exporter": "python",
   "pygments_lexer": "ipython3",
   "version": "3.5.2"
  }
 },
 "nbformat": 4,
 "nbformat_minor": 2
}
