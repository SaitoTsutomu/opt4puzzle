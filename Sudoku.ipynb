{
 "cells": [
  {
   "cell_type": "markdown",
   "metadata": {
    "cell_style": "split"
   },
   "source": [
    "<div style='float: right'><img src='pic/sudoku.png'/></div>\n",
    "## <div id='sudoku' />数独"
   ]
  },
  {
   "cell_type": "code",
   "execution_count": null,
   "metadata": {
    "cell_style": "split",
    "collapsed": true
   },
   "outputs": [],
   "source": [
    "import numpy as np\n",
    "from pulp import *\n",
    "from ortoolpy import addvar, addvars, addbinvar, addbinvars\n",
    "data = \"\"\"\\\n",
    "..6.....1\n",
    ".7..6..5.\n",
    "8..1.32..\n",
    "..5.4.8..\n",
    ".4.7.2.9.\n",
    "..8.1.7..\n",
    "..12.5..3\n",
    ".6..7..8.\n",
    "2.....4..\"\"\".split()"
   ]
  },
  {
   "cell_type": "markdown",
   "metadata": {},
   "source": [
    "### 問題\n",
    "* マスに 1～9 の数字を入れます\n",
    "* 縦、横または3×3に同じ数字は入りません\n",
    "\n",
    "### 定式化\n",
    "\\begin{array}{cl}\n",
    "            変数 & v_{ijk} \\in \\{0, 1\\} ~ \\forall i, j, k ~ ~ ~ マスi,jが数字k+1か (1) \\\\\n",
    "\\mbox{subject to} & \\sum_k{v_{ijk}} = 1 ~ \\forall i, j ~数字は1つ (2) \\\\\n",
    "                 & \\sum_k{v_{ikj}} = 1 ~ \\forall i, j ~ 縦に同じ数字はない (3) \\\\\n",
    "                 & \\sum_k{v_{kij}} = 1 ~ \\forall i, j ~ 横に同じ数字はない (4) \\\\\n",
    "                 & 3\\times3のマスについても同様 (5) \\\\\n",
    "                 & 数字指定 (6) \\\\\n",
    "\\end{array}"
   ]
  },
  {
   "cell_type": "code",
   "execution_count": null,
   "metadata": {
    "cell_style": "center",
    "collapsed": false
   },
   "outputs": [],
   "source": [
    "m = LpProblem()\n",
    "v = np.array(addbinvars(9, 9, 9)) # (1)\n",
    "for i in range(9):\n",
    "    for j in range(9):\n",
    "        m += lpSum(v[i,:,j]) == 1 # num (2)\n",
    "        m += lpSum(v[i,j,:]) == 1 # col (3)\n",
    "        m += lpSum(v[:,i,j]) == 1 # row (4)\n",
    "        k, l = i//3*3, i%3*3\n",
    "        m += lpSum(v[k:k+3,j,l:l+3]) == 1 # 3x3 (5)\n",
    "        if data[i][j].isdigit():\n",
    "            m += v[i,int(data[i][j])-1,j] == 1 # fix (6)\n",
    "%time m.solve()\n",
    "(np.arange(9) @ np.vectorize(value)(v).astype(int)+1).tolist()"
   ]
  }
 ],
 "metadata": {
  "anaconda-cloud": {},
  "kernelspec": {
   "display_name": "Python [default]",
   "language": "python",
   "name": "python3"
  },
  "language_info": {
   "codemirror_mode": {
    "name": "ipython",
    "version": 3
   },
   "file_extension": ".py",
   "mimetype": "text/x-python",
   "name": "python",
   "nbconvert_exporter": "python",
   "pygments_lexer": "ipython3",
   "version": "3.5.2"
  }
 },
 "nbformat": 4,
 "nbformat_minor": 1
}
