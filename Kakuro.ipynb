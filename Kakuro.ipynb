{
 "cells": [
  {
   "cell_type": "markdown",
   "metadata": {
    "cell_style": "split"
   },
   "source": [
    "<div style='float: right'><img src='pic/kakkuro.png'/></div>\n",
    "## <div id='kakkuro' />カックロ"
   ]
  },
  {
   "cell_type": "code",
   "execution_count": null,
   "metadata": {
    "cell_style": "split",
    "collapsed": true
   },
   "outputs": [],
   "source": [
    "import numpy as np\n",
    "from pulp import *\n",
    "from ortoolpy import addvar, addvars, addbinvar, addbinvars\n",
    "data = \"\"\"\\\n",
    "******\n",
    "**..**\n",
    "*....*\n",
    "*..*..\n",
    "**....\n",
    "***..*\"\"\".split()\n",
    "hint = [[[int(s) if s else -1 for s in (t+'|').split('|')]\n",
    "        for t in u.split(',')] for u in \"\"\"\\\n",
    ",,11,4,,\n",
    ",14|5,,,10,\n",
    "|17,,,,,3\n",
    "|6,,,3|4,,\n",
    ",|10,,,,\n",
    ",,|3,,,\"\"\".split()]"
   ]
  },
  {
   "cell_type": "markdown",
   "metadata": {},
   "source": [
    "### 問題\n",
    "* マスに 1～9 の数字を入れます\n",
    "* 縦または横に連続する空マスの中に同じ数字は入りません\n",
    "* 連続するマスの合計が示されます\n",
    "\n",
    "### 定式化\n",
    "\\begin{array}{cl}\n",
    "            変数 & v_{ijk} \\in \\{0, 1\\} ~ \\forall i, j, k ~ ~ ~ マスi,jが数字k+1か (1) \\\\\n",
    "                 & r_{ij} \\in Z ~ \\forall i, j ~ ~ ~ ~ ~ マスi,jの数字 (2) \\\\\n",
    "\\mbox{subject to} & \\sum_k{v_{ijk}} = 1 ~ \\forall i, j ~ ~ ~ ~ 数字は1つ (3) \\\\\n",
    "                 & \\sum_k{k \\times v_{ijk}} + 1 = r_{ij} ~ \\forall i, j ~ ~ ~ rをvで表現 (4) \\\\\n",
    "                 & \\sum_{ij}{r_{ij}} = 合計 ~ \\forall i, j ~ ~ ~ ~ ~ マスの合計が同じ (5) \\\\\n",
    "                 & マスの並びで同じ数字は禁止 (6) \\\\\n",
    "\\end{array}"
   ]
  },
  {
   "cell_type": "code",
   "execution_count": null,
   "metadata": {
    "collapsed": false,
    "scrolled": true
   },
   "outputs": [],
   "source": [
    "nh, nw =len(data), len(data[0]) # 縦、横 \n",
    "m = LpProblem()\n",
    "v = np.array(addbinvars(nh, nw, 9)) # (1)\n",
    "r = np.array(addvars(nh, nw)) # (2)\n",
    "for i in range(nh):\n",
    "    for j in range(nw):\n",
    "        if data[i][j] != '*':\n",
    "            m += lpSum(v[i,j,:]) == 1 # (3)\n",
    "            m += lpDot(range(9), v[i,j,:]) + 1 == r[i,j] # (4)\n",
    "            continue\n",
    "        for drc in range(2): # 縦と横\n",
    "            if hint[i][j][drc] < 0:\n",
    "                continue\n",
    "            y, x = i, j\n",
    "            l = []\n",
    "            while True:\n",
    "                y, x = y + 1 - drc, x + drc\n",
    "                if x == nw or y == nh or data[y][x] == '*':\n",
    "                    break\n",
    "                l.append((y,x))\n",
    "            m += lpSum(r[y,x] for y,x in l) == hint[i][j][drc] # 合計 (5)\n",
    "            for k in range(9):\n",
    "                m += lpSum(v[y,x,k] for y,x in l) <= 1 # 並びで同じ数は1つ (6)\n",
    "%time m.solve()\n",
    "np.vectorize(lambda i: str(int(value(i))) if value(i) else ' ')(r).tolist()"
   ]
  }
 ],
 "metadata": {
  "anaconda-cloud": {},
  "kernelspec": {
   "display_name": "Python [default]",
   "language": "python",
   "name": "python3"
  },
  "language_info": {
   "codemirror_mode": {
    "name": "ipython",
    "version": 3
   },
   "file_extension": ".py",
   "mimetype": "text/x-python",
   "name": "python",
   "nbconvert_exporter": "python",
   "pygments_lexer": "ipython3",
   "version": "3.5.2"
  }
 },
 "nbformat": 4,
 "nbformat_minor": 1
}
