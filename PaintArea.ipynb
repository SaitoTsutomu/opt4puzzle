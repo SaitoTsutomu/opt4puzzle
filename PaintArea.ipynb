{
 "cells": [
  {
   "cell_type": "markdown",
   "metadata": {
    "cell_style": "split"
   },
   "source": [
    "<div style='float: right'><img src='pic/paint.png'/></div>\n",
    "## <div id='paint' />ペイントエリア"
   ]
  },
  {
   "cell_type": "code",
   "execution_count": null,
   "metadata": {
    "cell_style": "split",
    "collapsed": true
   },
   "outputs": [],
   "source": [
    "%matplotlib inline\n",
    "import numpy as np, matplotlib.pyplot as plt\n",
    "from itertools import groupby, product\n",
    "from pulp import *\n",
    "from unionfind import unionfind\n",
    "from ortoolpy import addvar, addvars, addbinvar, addbinvars\n",
    "data = \"\"\"\\\n",
    "AABBC\n",
    "DEFBC\n",
    "DGFHH\n",
    "DGIJH\n",
    "KKLJH\"\"\".split()\n",
    "nums = [[0,1,3], [3,2,2], [4,1,1]]\n",
    "nw, nh = len(data[0]), len(data)"
   ]
  },
  {
   "cell_type": "markdown",
   "metadata": {},
   "source": [
    "### 問題\n",
    "* 盤面上にある、太線で区切られた部分（タイル）のいくつかを黒くぬります\n",
    "* 盤面の数字は、その数字の入っているマスにタテヨコに隣り合うマスのうち、黒マスになるマスの数を表します\n",
    "* 数字のマスが黒マスになることもあります\n",
    "* どのタイルも、すべてのマスをぬるかすべてのマスをぬらずにおくかのどちらとし、タイルの一部のマスだけをぬってはいけません\n",
    "* すべての黒マスはつながること\n",
    "* 黒白マスとも、２×２以上はだめ\n",
    "\n",
    "### 変数\n",
    "* v：0:white, 1:black (1)\n",
    "\n",
    "### 制約\n",
    "* 2×2の黒がないこと (2)\n",
    "* タイル内は同じこと (3)\n",
    "* 数字は周りの黒の数と等しいこと (4)\n",
    "* 全ての黒がつながること (5)"
   ]
  },
  {
   "cell_type": "code",
   "execution_count": null,
   "metadata": {
    "collapsed": false
   },
   "outputs": [],
   "source": [
    "m = LpProblem()\n",
    "u = np.zeros((nh+2, nw+2), dtype=object)\n",
    "v = u[1:-1,1:-1] = np.array(addbinvars(nh, nw)) # 0:white, 1:black (1)\n",
    "for i, j in product(range(nh-1), range(nw-1)):\n",
    "    m += lpSum(v[i:i+2,j:j+2]) <= 3 # (2)\n",
    "for _, d in groupby(sorted(zip(''.join(data), v.flat)), lambda x:x[0]):\n",
    "    d = list(d)\n",
    "    for vi, vj in zip(d, d[1:]):\n",
    "        m += vi[1] == vj[1] # (3)\n",
    "w = u[1:-1,2:]+u[1:-1,:-2]+u[2:,1:-1]+u[:-2,1:-1]\n",
    "for i, j, k in nums:\n",
    "    m += lpSum(w[i,j]) == k # (4)\n",
    "while True:\n",
    "    %time m.solve()\n",
    "    r = np.vectorize(value)(v)\n",
    "    if unionfind.isconnected(r):\n",
    "        break\n",
    "    m += lpSum(v[r==0]) >= 1 # (5)\n",
    "plt.imshow(1-r, cmap='gray', interpolation='none');"
   ]
  }
 ],
 "metadata": {
  "anaconda-cloud": {},
  "kernelspec": {
   "display_name": "Python [default]",
   "language": "python",
   "name": "python3"
  },
  "language_info": {
   "codemirror_mode": {
    "name": "ipython",
    "version": 3
   },
   "file_extension": ".py",
   "mimetype": "text/x-python",
   "name": "python",
   "nbconvert_exporter": "python",
   "pygments_lexer": "ipython3",
   "version": "3.5.2"
  }
 },
 "nbformat": 4,
 "nbformat_minor": 1
}
