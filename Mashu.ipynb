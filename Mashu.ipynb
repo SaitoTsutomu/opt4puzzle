{
 "cells": [
  {
   "cell_type": "markdown",
   "metadata": {
    "cell_style": "split"
   },
   "source": [
    "<div style='float: right'><img src='pic/mashu.png'/></div>\n",
    "## <div id='mashu' />ましゅ"
   ]
  },
  {
   "cell_type": "code",
   "execution_count": null,
   "metadata": {
    "cell_style": "split",
    "collapsed": true
   },
   "outputs": [],
   "source": [
    "import numpy as np\n",
    "from itertools import product\n",
    "from pulp import *\n",
    "from ortoolpy import addvar, addvars, addbinvar, addbinvars\n",
    "data = \"\"\"\\\n",
    "*.o..oo...\n",
    "...o....oo\n",
    "*.*o..o...\n",
    "...*.*o...\n",
    "ooo..*.o*.\n",
    "......*.*.\n",
    ".*..o....o\n",
    ".....*o...\n",
    ".ooo.o*oo.\n",
    "......o...\"\"\".split()\n",
    "nw, nh = len(data[0]), len(data)\n",
    "M = nw * nh - 1\n",
    "r2 = range(2)"
   ]
  },
  {
   "cell_type": "markdown",
   "metadata": {},
   "source": [
    "### 問題\n",
    "* 盤面に線を引き、すべての白丸と黒丸を通る1つの輪を作ります\n",
    "* 線はタテヨコにマスの中央を通り、1マスに1本だけ通過できます\n",
    "* 線をワクの外に出したり、交差や枝分かれさせたりしてはいけません\n",
    "* 白丸を通る線は、白丸のマスで必ず直進し、白丸の両隣のマスの少なくとも片方で直角に曲がります\n",
    "* 黒丸を通る線は、黒丸のマスで必ず直角に曲がりますが、黒丸の隣のマスで曲がってはいけません\n",
    "\n",
    "### 変数\n",
    "* vz：始点からの距離 (1)\n",
    "* vh：水平線を引くかどうか (2)\n",
    "* vv：垂直線を引くかどうか (3)\n",
    "* vhd：0:to left, 1:to right (4)\n",
    "* vvd：0:to down, 1:to up (5)\n",
    "\n",
    "### 制約\n",
    "* vzはM(マス数)以下 (6)\n",
    "* 点に入るのは1以下 (7)\n",
    "* 点に入る数と出る数は等しくなること (8)\n",
    "* ○の条件。●の条件 (9)\n",
    "* vzの更新式。vh、vvをvhd、vvdで表現 (10)"
   ]
  },
  {
   "cell_type": "code",
   "execution_count": null,
   "metadata": {
    "collapsed": false
   },
   "outputs": [],
   "source": [
    "m = LpProblem()\n",
    "vz = addvars(nh, nw) # (1)\n",
    "vh = addvars(nh, nw-1) # (2)\n",
    "vv = addvars(nh-1, nw) # (3)\n",
    "vhd = addbinvars(nh, nw-1, 2) # 0:to left, 1:to right (4)\n",
    "vvd = addbinvars(nh-1, nw, 2) # 0:to down, 1:to up (5)\n",
    "def dirs(i, j, k):\n",
    "    return ([vhd[i][j-l][k^l] for l in r2 if 0 <= j-l < nw-1] +\n",
    "            [vvd[i-l][j][k^l] for l in r2 if 0 <= i-l < nh-1])\n",
    "for i, j in product(range(nh), range(nw)):\n",
    "    m += vz[i][j] <= M # (6)\n",
    "    din = dirs(i, j, 1)\n",
    "    dout = dirs(i, j, 0)\n",
    "    m += lpSum(din) <= 1 # (7)\n",
    "    m += lpSum(din) == lpSum(dout) # (8)\n",
    "    if data[i][j] == 'o':\n",
    "        fy, fx = i, j\n",
    "        m += lpSum(dirs(i, j, 1)) == 1 # (9)\n",
    "        if 1 <= i < nh-1:\n",
    "            m += vv[i-1][j] == vv[i][j] # (9)\n",
    "        if 2 <= i < nh-2:\n",
    "            m += vv[i-2][j] + vv[i+1][j] <= 2 - vv[i][j] # (9)\n",
    "        if 1 <= j < nw-1:\n",
    "            m += vh[i][j-1] == vh[i][j] # (9)\n",
    "        if 2 <= j < nw-2:\n",
    "            m += vh[i][j-2] + vh[i][j+1] <= 2 - vh[i][j] # (9)\n",
    "    elif data[i][j] == '*':\n",
    "        m += lpSum(vh[i][j-l] for l in r2 if 0 <= j-l < nw-1) == 1 # (9)\n",
    "        if 0 <= i-2:\n",
    "            m += vv[i-1][j] <= vv[i-2][j] # (9)\n",
    "        if i+1 < nh - 1:\n",
    "            m += vv[i][j] <= vv[i+1][j] # (9)\n",
    "        if 0 <= j-2:\n",
    "            m += vh[i][j-1] <= vh[i][j-2] # (9)\n",
    "        if j+1 < nw-1:\n",
    "            m += vh[i][j] <= vh[i][j+1] # (9)\n",
    "for i, j in product(range(nh), range(nw-1)):\n",
    "    m += lpSum(vhd[i][j]) == vh[i][j] # (10)\n",
    "    m += vh[i][j] <= 1 # (10)\n",
    "    m += vz[i][j] + 1 <= vz[i][j+1] + M * (1 - vhd[i][j][0]) # (10)\n",
    "    if (i, j) != (fy, fx):\n",
    "        m += vz[i][j+1] + 1 <= vz[i][j] + M * (1 - vhd[i][j][1]) # (10)\n",
    "for i, j in product(range(nh-1), range(nw)):\n",
    "    m += lpSum(vvd[i][j]) == vv[i][j] # (10)\n",
    "    m += vv[i][j] <= 1 # (10)\n",
    "    m += vz[i][j] + 1 <= vz[i+1][j] + M * (1 - vvd[i][j][0]) # (10)\n",
    "    if (i, j) != (fy, fx):\n",
    "        m += vz[i+1][j] + 1 <= vz[i][j] + M * (1 - vvd[i][j][1]) # (10)\n",
    "%time m.solve()\n",
    "for i in range(nh):\n",
    "    for j in range(nw):\n",
    "        print('+' if data[i][j]=='.' else data[i][j], end='')\n",
    "        if j < nw-1:\n",
    "            print('-' if value(vh[i][j]) else ' ', end='')\n",
    "    print()\n",
    "    if i == nh-1: break\n",
    "    for j in range(nw):\n",
    "        print('| ' if value(vv[i][j]) else '  ', end='')\n",
    "    print()"
   ]
  }
 ],
 "metadata": {
  "anaconda-cloud": {},
  "kernelspec": {
   "display_name": "Python [default]",
   "language": "python",
   "name": "python3"
  },
  "language_info": {
   "codemirror_mode": {
    "name": "ipython",
    "version": 3
   },
   "file_extension": ".py",
   "mimetype": "text/x-python",
   "name": "python",
   "nbconvert_exporter": "python",
   "pygments_lexer": "ipython3",
   "version": "3.5.2"
  }
 },
 "nbformat": 4,
 "nbformat_minor": 1
}
