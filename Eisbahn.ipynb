{
 "cells": [
  {
   "cell_type": "markdown",
   "metadata": {
    "cell_style": "split"
   },
   "source": [
    "<div style='float: right'><img src='pic/eisbahn.png'/></div>\n",
    "## <div id='eisbahn' />アイスバーン"
   ]
  },
  {
   "cell_type": "code",
   "execution_count": null,
   "metadata": {
    "cell_style": "split",
    "collapsed": false
   },
   "outputs": [],
   "source": [
    "%matplotlib inline\n",
    "import numpy as np, matplotlib.pyplot as plt\n",
    "from itertools import product\n",
    "from pulp import *\n",
    "from unionfind import unionfind\n",
    "from ortoolpy import addvar, addvars, addbinvar, addbinvars\n",
    "data = \"\"\"\\\n",
    " . . . . . \n",
    "R . .*.*L .\n",
    " . . . . . \n",
    ". . . . . .\n",
    " . . U . . \n",
    ".*. .*. . .\n",
    " . . . . . \n",
    ". . . . . .\n",
    " . . . . . \n",
    ". R*.*. . R\n",
    " . . . . . \"\"\".split('\\n')\n",
    "nw, nh = len(data[0])//2, len(data)//2"
   ]
  },
  {
   "cell_type": "markdown",
   "metadata": {
    "cell_style": "split"
   },
   "source": [
    "### 問題\n",
    "* INから入りOUTにいく１本の線をひきます\n",
    "* 灰色のマスをアイスバーンとし、必ず通ります\n",
    "* アイスバーンで曲がってはいけません\n",
    "* アイスバーンのみ交差可です\n",
    "* 矢印は必ず通ること\n",
    "\n",
    "### 変数\n",
    "* vh：0:L, 1:R (1)\n",
    "* vv：0:U, 1:D (2)\n",
    "* vhs (3)\n",
    "* vvs (4)"
   ]
  },
  {
   "cell_type": "markdown",
   "metadata": {
    "cell_style": "split"
   },
   "source": [
    "### 制約\n",
    "* vhsをvhで、vvsをvvで表現 (5)\n",
    "* 矢印は必ず通ること (6)\n",
    "* 各マスで入る数と出る数が同じこと (7)\n",
    "* アイスバーンなら横は同じ、縦も同じこと（曲がらない） (8)\n",
    "* アイスバーンなら線は2以上 (9)\n",
    "* アイスバーンでないなら線は2以下 (10)\n",
    "* 線は1つ (11)"
   ]
  },
  {
   "cell_type": "code",
   "execution_count": null,
   "metadata": {
    "collapsed": false,
    "scrolled": false
   },
   "outputs": [],
   "source": [
    "m = LpProblem()\n",
    "vh = np.array(addbinvars(nh, nw+1, 2)) # 0:L, 1:R (1)\n",
    "vv = np.array(addbinvars(nh+1, nw, 2)) # 0:U, 1:D (2)\n",
    "vhs = np.array(addvars(nh, nw+1)) # (3)\n",
    "vvs = np.array(addvars(nh+1, nw)) # (4)\n",
    "for i, j in product(range(nh), range(nw+1)):\n",
    "    c = data[i*2+1][j*2]\n",
    "    m += lpDot([1,2], vh[i,j]) == vhs[i,j] # (5)\n",
    "    m += lpSum(vhs[i,j]) <= 2 # (5)\n",
    "    if c != '.' or j%nw == 0:\n",
    "        m += vhs[i,j] == (1 if c=='L' else 2 if c=='R' else 0) # (6)\n",
    "for i, j in product(range(nh+1), range(nw)):\n",
    "    c = data[i*2][j*2+1]\n",
    "    m += lpDot([1,2], vv[i,j]) == vvs[i,j] # (5)\n",
    "    m += lpSum(vvs[i,j]) <= 2 # (5)\n",
    "    if c != '.' or i%nh == 0:\n",
    "        m += vvs[i,j] == (1 if c=='U' else 2 if c=='D' else 0) # (6)\n",
    "for i, j in product(range(nh), range(nw)):\n",
    "    e1 = lpSum(vv[i+k,j,1-k] + vh[i,j+k,1-k] for k in range(2)) # in\n",
    "    e2 = lpSum(vv[i+k,j,k]   + vh[i,j+k,k] for k in range(2)) # out\n",
    "    m += e1 == e2 # (7)\n",
    "    if data[i*2+1][j*2+1] == '*':\n",
    "        m += vhs[i,j] == vhs[i,j+1] # (8)\n",
    "        m += vvs[i,j] == vvs[i+1,j] # (8)\n",
    "        m += e1 + e2 >= 2 # (9)\n",
    "    else:\n",
    "        m += e1 + e2 <= 2 # (10)\n",
    "while True:\n",
    "    %time m.solve()\n",
    "    rhs = np.vectorize(value)(vhs)\n",
    "    rvs = np.vectorize(value)(vvs)\n",
    "    if m.status != 1: break\n",
    "    u = unionfind(nh * nw)\n",
    "    for i, j in product(range(nh), range(nw)):\n",
    "        if i and rvs[i,j]:\n",
    "            u.unite(j+i*nw-nw, j+i*nw)\n",
    "        if j and rhs[i,j]:\n",
    "            u.unite(j-1+i*nw, j+i*nw)\n",
    "    if sum(1 for gr in u.groups() if len(gr) > 1) == 1:\n",
    "        break\n",
    "    m += lpSum(vh[rhs>0])+lpSum(vv[rvs>0]) <= (rhs>0).sum() + (rvs>0).sum() - 1 # (11)\n",
    "r = (rvs[:-1,:]>0)+2*(rhs[:,:-1]>0)+4*(rvs[1:,:]>0)+8*(rhs[:,1:]>0)\n",
    "print('\\n'.join(''.join(s) for s in np.vectorize(lambda x: '　12┘4│┐78└─1┌34┼'[x])(r)))"
   ]
  }
 ],
 "metadata": {
  "anaconda-cloud": {},
  "kernelspec": {
   "display_name": "Python [default]",
   "language": "python",
   "name": "python3"
  },
  "language_info": {
   "codemirror_mode": {
    "name": "ipython",
    "version": 3
   },
   "file_extension": ".py",
   "mimetype": "text/x-python",
   "name": "python",
   "nbconvert_exporter": "python",
   "pygments_lexer": "ipython3",
   "version": "3.5.2"
  }
 },
 "nbformat": 4,
 "nbformat_minor": 1
}
