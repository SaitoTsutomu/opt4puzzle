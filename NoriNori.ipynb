{
 "cells": [
  {
   "cell_type": "markdown",
   "metadata": {
    "cell_style": "split"
   },
   "source": [
    "<div style='float: right'><img src='pic/norinori.png'/></div>\n",
    "## <div id='norinori' />のりのり"
   ]
  },
  {
   "cell_type": "code",
   "execution_count": null,
   "metadata": {
    "cell_style": "split",
    "collapsed": true
   },
   "outputs": [],
   "source": [
    "%matplotlib inline\n",
    "import numpy as np, matplotlib.pyplot as plt\n",
    "from itertools import groupby\n",
    "from pulp import *\n",
    "from ortoolpy import addvar, addvars, addbinvar, addbinvars\n",
    "data = \"\"\"\\\n",
    "ABBBC\n",
    "ADDBC\n",
    "EDBBB\n",
    "EEEEE\n",
    "EEEEE\"\"\".split()\n",
    "nw, nh = len(data[0]), len(data)"
   ]
  },
  {
   "cell_type": "markdown",
   "metadata": {},
   "source": [
    "### 問題\n",
    "* 盤面のいくつかのマスを黒くぬります\n",
    "* 黒マスは必ずタテかヨコにちょうど２つだけぬります\n",
    "* 太線で区切られた各部分には、黒マスが２つずつ入ります\n",
    "\n",
    "### 変数\n",
    "* v：黒かどうか (1)\n",
    "\n",
    "### 制約\n",
    "* 各部分内の黒は2つ (2)\n",
    "* あるマスが黒なら、周りは1つだけ黒 (3)"
   ]
  },
  {
   "cell_type": "code",
   "execution_count": null,
   "metadata": {
    "collapsed": false
   },
   "outputs": [],
   "source": [
    "m = LpProblem()\n",
    "v = np.array(addbinvars(nh, nw)) # (1)\n",
    "u = np.zeros((nh+2, nw+2), object)\n",
    "u[1:-1, 1:-1] = v\n",
    "for k, d in groupby(sorted(zip(''.join(data), v.flat)), lambda x:x[0]):\n",
    "    m += lpSum(c[1] for c in d) == 2 # (2)\n",
    "for x, y in zip(v.flat, (u[:-2,1:-1]+u[1:-1,2:]+u[2:,1:-1]+u[1:-1,:-2]).flat):\n",
    "    m += lpSum(y) <= 3-2*x # (3)\n",
    "    m += lpSum(y) >= x # (3)\n",
    "%time m.solve()\n",
    "plt.imshow(1-np.vectorize(value)(v), cmap='gray', interpolation='none');"
   ]
  }
 ],
 "metadata": {
  "anaconda-cloud": {},
  "kernelspec": {
   "display_name": "Python [default]",
   "language": "python",
   "name": "python3"
  },
  "language_info": {
   "codemirror_mode": {
    "name": "ipython",
    "version": 3
   },
   "file_extension": ".py",
   "mimetype": "text/x-python",
   "name": "python",
   "nbconvert_exporter": "python",
   "pygments_lexer": "ipython3",
   "version": "3.5.2"
  }
 },
 "nbformat": 4,
 "nbformat_minor": 1
}
