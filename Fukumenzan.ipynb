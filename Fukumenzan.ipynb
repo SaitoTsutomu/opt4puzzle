{
 "cells": [
  {
   "cell_type": "markdown",
   "metadata": {
    "cell_style": "split"
   },
   "source": [
    "<div style='float: right'><img src='pic/fukumen.png'/></div>\n",
    "## <div id='fukumen' />覆面算"
   ]
  },
  {
   "cell_type": "code",
   "execution_count": null,
   "metadata": {
    "cell_style": "split",
    "collapsed": false
   },
   "outputs": [],
   "source": [
    "import numpy as np\n",
    "from pulp import *\n",
    "from ortoolpy import addvar, addvars, addbinvar, addbinvars\n",
    "data = \"\"\"\\\n",
    " SEND\n",
    " MORE\n",
    "-----\n",
    "MONEY\"\"\".split('\\n')\n",
    "data = data[:-2] + [data[-1]]\n",
    "nw, nh = len(data[0]), len(data)\n",
    "r10 = range(10)"
   ]
  },
  {
   "cell_type": "markdown",
   "metadata": {},
   "source": [
    "### 問題\n",
    "* 各記号は0から9までの数字の1に対応します\n",
    "  * 同じ記号には同じ数字が対応します\n",
    "  * 最上位の桁は0になりません\n",
    "\n",
    "### 変数\n",
    "* v:各位置でどの数字を使うか (1)\n",
    "* r:各位置の1桁の数字 (2)\n",
    "* q:nw桁の数字 (3)\n",
    "\n",
    "### 制約\n",
    "* $v_{ij}$内で数字は１つのみ (4)\n",
    "* rをvで表現 (5)\n",
    "* 空白は0、先頭は0でない (6)\n",
    "* 同じ文字は同じ数字、違う文字は違う数字 (7)\n",
    "* qをrで表現 (8)\n",
    "* qの最後以外の合計は、qの最後と等しい (9)"
   ]
  },
  {
   "cell_type": "code",
   "execution_count": null,
   "metadata": {
    "collapsed": false
   },
   "outputs": [],
   "source": [
    "m = LpProblem()\n",
    "v = addbinvars(nh, nw, 10) # (1)\n",
    "r = addvars(nh, nw) # (2)\n",
    "q = addvars(nh) # (3)\n",
    "dic = {}\n",
    "for i in range(nh):\n",
    "    e = LpAffineExpression()\n",
    "    fst = True\n",
    "    for j in range(nw):\n",
    "        c = data[i][j]\n",
    "        e = e * 10 + r[i][j]\n",
    "        m += lpSum(v[i][j]) == 1 # (4)\n",
    "        m += lpDot(r10, v[i][j]) == r[i][j] # (5)\n",
    "        if c == ' ':\n",
    "            m += v[i][j][0] == 1 # (6)\n",
    "        else:\n",
    "            if c in dic:\n",
    "                m += lpDot(r10, v[i][j]) == lpDot(r10, dic[c]) # (7)\n",
    "            else:\n",
    "                dic[c] = v[i][j]\n",
    "            if fst:\n",
    "                fst = False\n",
    "                m += v[i][j][0] == 0 # (6)\n",
    "    m += e == q[i] # (8)\n",
    "for i, t in dic.items():\n",
    "    for j, u in dic.items():\n",
    "        if i < j:\n",
    "            for k in r10:\n",
    "                m += t[k] + u[k] <= 1 # (7)\n",
    "m += lpSum(q[:-1]) == q[-1] # (9)\n",
    "%time m.solve()\n",
    "np.vectorize(value)(r).astype(int)"
   ]
  }
 ],
 "metadata": {
  "anaconda-cloud": {},
  "kernelspec": {
   "display_name": "Python [default]",
   "language": "python",
   "name": "python3"
  },
  "language_info": {
   "codemirror_mode": {
    "name": "ipython",
    "version": 3
   },
   "file_extension": ".py",
   "mimetype": "text/x-python",
   "name": "python",
   "nbconvert_exporter": "python",
   "pygments_lexer": "ipython3",
   "version": "3.5.2"
  }
 },
 "nbformat": 4,
 "nbformat_minor": 1
}
