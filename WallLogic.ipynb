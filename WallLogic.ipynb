{
 "cells": [
  {
   "cell_type": "markdown",
   "metadata": {
    "cell_style": "split"
   },
   "source": [
    "<div style='float: right'><img src='pic/wall.png'/></div>\n",
    "## <div id='wall' />ウォールロジック"
   ]
  },
  {
   "cell_type": "code",
   "execution_count": null,
   "metadata": {
    "cell_style": "split",
    "collapsed": true
   },
   "outputs": [],
   "source": [
    "import numpy as np\n",
    "from itertools import product\n",
    "from pulp import *\n",
    "from ortoolpy import addvar, addvars, addbinvar, addbinvars\n",
    "data = \"\"\"\\\n",
    "4..1..\n",
    ".4..2.\n",
    "..2..2\n",
    "1..1..\n",
    ".1..1.\n",
    "..3..2\"\"\".split()\n",
    "nw, nh = len(data[0]), len(data)\n",
    "mx = max(nw, nh)"
   ]
  },
  {
   "cell_type": "markdown",
   "metadata": {},
   "source": [
    "### 問題\n",
    "* 数字が記入されているマスからその数字の数だけ縦と横に線を引きます\n",
    "* 1つのマスには1本の線しか引くことができません\n",
    "* 数字が記入されているマスには線を引くことができません\n",
    "\n",
    "### 変数\n",
    "* v：各位置のどの方向か  (1)\n",
    "* r：各位置の方向別長さ  (2)\n",
    "\n",
    "### 制約\n",
    "* 数字があれば、方向別長さの和に等しく、かつその位置に矢印がないこと  (3)\n",
    "* 数字がなければ矢印は1方向のみ  (4)\n",
    "* 数字がなければ矢印の方向に長さを1足すこと  (5)"
   ]
  },
  {
   "cell_type": "code",
   "execution_count": null,
   "metadata": {
    "collapsed": false
   },
   "outputs": [],
   "source": [
    "m = LpProblem()\n",
    "v = np.array(addbinvars(nh, nw, 4)) # (1)\n",
    "r = np.array(addvars(nh, nw, 4)) # (2)\n",
    "drc = [(-1, 0, 0), (0, -1, 1), (0, 1, 2), (1, 0, 3)]\n",
    "for i, j in product(range(nh), range(nw)):\n",
    "    if data[i][j].isdigit():\n",
    "        m += lpSum(r[i+y,j+x,k] for y,x,k in drc\n",
    "                   if 0<=i+y<nh and 0<=j+x<nw) == int(data[i][j]) # (3)\n",
    "        m += lpSum(r[i,j]) == 0 # (3)\n",
    "        continue\n",
    "    m += lpSum(v[i,j]) == 1 # (4)\n",
    "    for y, x, k in drc:\n",
    "        m += r[i,j,k] <= mx * v[i,j,k] # (5)\n",
    "        m += r[i,j,k] <= v[i,j,k] + (r[i+y,j+x,k]\n",
    "                         if 0<=i+y<nh and 0<=j+x<nw else 0) # (5)\n",
    "%time m.solve()\n",
    "print('\\n'.join(''.join(' '+data[i][j] if data[i][j].isdigit() else '↑←→↓'\n",
    "  [int(value(lpDot(np.arange(4),v[i,j])))] for j in range(nw)) for i in range(nh)))"
   ]
  }
 ],
 "metadata": {
  "anaconda-cloud": {},
  "kernelspec": {
   "display_name": "Python [default]",
   "language": "python",
   "name": "python3"
  },
  "language_info": {
   "codemirror_mode": {
    "name": "ipython",
    "version": 3
   },
   "file_extension": ".py",
   "mimetype": "text/x-python",
   "name": "python",
   "nbconvert_exporter": "python",
   "pygments_lexer": "ipython3",
   "version": "3.5.2"
  }
 },
 "nbformat": 4,
 "nbformat_minor": 1
}
