{
 "cells": [
  {
   "cell_type": "markdown",
   "metadata": {
    "cell_style": "split"
   },
   "source": [
    "<div style='float: right'><img src='pic/chokona.png'/></div>\n",
    "## <div id='sudoku' />チョコナ"
   ]
  },
  {
   "cell_type": "code",
   "execution_count": null,
   "metadata": {
    "cell_style": "split",
    "collapsed": true
   },
   "outputs": [],
   "source": [
    "%matplotlib inline\n",
    "import numpy as np, matplotlib.pyplot as plt\n",
    "from itertools import groupby, product\n",
    "from pulp import *\n",
    "from ortoolpy import addvar, addvars, addbinvar, addbinvars\n",
    "data = \"\"\"\\\n",
    "3.3...\n",
    ".1....\n",
    "22.21.\n",
    "......\n",
    "....3.\n",
    ".2....\"\"\".split()\n",
    "area = \"\"\"\\\n",
    "001111\n",
    "022222\n",
    "345677\n",
    "345677\n",
    "355899\n",
    "3aa889\"\"\".split()\n",
    "nw, nh = len(data[0]), len(data)"
   ]
  },
  {
   "cell_type": "markdown",
   "metadata": {},
   "source": [
    "### 問題\n",
    "- 国(太線で区切られた部分)の数は、国内の黒マスの合計とする。国の数がない場合はいくつでもよい。\n",
    "- 黒マスの連なりは、長方形とする。\n",
    "\n",
    "### 変数\n",
    "* v：各マスが黒か  (1)\n",
    "\n",
    "### 制約\n",
    "* 数字が国の黒数と等しい  (2)\n",
    "* 任意の2x2で黒数が3でない  (3)"
   ]
  },
  {
   "cell_type": "code",
   "execution_count": null,
   "metadata": {
    "cell_style": "center",
    "collapsed": false
   },
   "outputs": [],
   "source": [
    "m = LpProblem()\n",
    "v = np.array(addbinvars(nh, nw)) # (1)\n",
    "dc = {g:int(c) for z in zip(data, area) for c, g in zip(*z) if c != '.'}\n",
    "for k, d in groupby(sorted(zip(''.join(area), v.flat)), lambda x:x[0]):\n",
    "    if k in dc:\n",
    "        m += lpSum(c[1] for c in d) == dc[k] # (2)\n",
    "for i, j in product(range(nh-1), range(nw-1)):\n",
    "    for x in v[i:i+2,j:j+2].flat:\n",
    "        m += lpSum(v[i:i+2,j:j+2]) <= 2+2*x # (3)\n",
    "%time m.solve()\n",
    "plt.imshow(1-np.vectorize(value)(v), cmap='gray', interpolation='none');"
   ]
  }
 ],
 "metadata": {
  "anaconda-cloud": {},
  "kernelspec": {
   "display_name": "Python [default]",
   "language": "python",
   "name": "python3"
  },
  "language_info": {
   "codemirror_mode": {
    "name": "ipython",
    "version": 3
   },
   "file_extension": ".py",
   "mimetype": "text/x-python",
   "name": "python",
   "nbconvert_exporter": "python",
   "pygments_lexer": "ipython3",
   "version": "3.5.2"
  }
 },
 "nbformat": 4,
 "nbformat_minor": 1
}
