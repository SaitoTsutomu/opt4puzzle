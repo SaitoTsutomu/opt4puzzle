{
 "cells": [
  {
   "cell_type": "markdown",
   "metadata": {
    "cell_style": "split"
   },
   "source": [
    "<div style='float: right'><img src='pic/heyawake.png'/></div>\n",
    "## <div id='heyawake' />へやわけ"
   ]
  },
  {
   "cell_type": "code",
   "execution_count": null,
   "metadata": {
    "cell_style": "split",
    "collapsed": false
   },
   "outputs": [],
   "source": [
    "import numpy as np\n",
    "from collections import defaultdict\n",
    "from itertools import chain, groupby, product\n",
    "from pulp import *\n",
    "from unionfind import unionfind\n",
    "from ortoolpy import addvar, addvars, addbinvar, addbinvars\n",
    "data = np.array([list(s) for s in \"\"\"\\\n",
    "AABCCCDDDD\n",
    "AABCCCEEEF\n",
    "GGGGHHIIIF\n",
    "GGGGHHIIIF\n",
    "JKLLHHIIIF\n",
    "JKLLMMMNNN\n",
    "JOLLMMMNNN\n",
    "PQQRRRSSTT\n",
    "PQQUUUSSVV\n",
    "PQQUUUSSVV\"\"\".split()])\n",
    "nums = {'A':2, 'I':5, 'K':0, 'L':1, 'N':2, 'O':1, 'P':2, 'U':3}\n",
    "nw, nh = len(data[0]), len(data)"
   ]
  },
  {
   "cell_type": "markdown",
   "metadata": {},
   "source": [
    "### 問題\n",
    "* 盤面のいくつかのマスを黒くぬります\n",
    "* 太線で区切られた四角（部屋）に入っている数字は、その部屋に入る黒マスの数を表します\n",
    "* 数字の入っていない部屋は、いくつ黒マスが入るか不明です\n",
    "* 白マスを、タテまたはヨコにまっすぐに３つ以上の部屋にわたって続けさせてはいけません\n",
    "* 黒マスをタテヨコに連続させたり、黒マスで盤面を分断したりしてはいけません\n",
    "\n",
    "### 変数\n",
    "* v：0:white, 1:black (1)\n",
    "\n",
    "### 制約\n",
    "* 3つの部屋で白をまっすぐ連続してはいけません (2)\n",
    "* 数字は部屋内の黒の数となること (3)\n",
    "* 黒は連続しないこと (4)\n",
    "* 黒で分断しないこと (5)"
   ]
  },
  {
   "cell_type": "code",
   "execution_count": null,
   "metadata": {
    "collapsed": false
   },
   "outputs": [],
   "source": [
    "m = LpProblem()\n",
    "v = np.array(addbinvars(nh, nw)) # 0:white, 1:black (1)\n",
    "for d, x in chain(zip(data,v), zip(data.T,v.T)):\n",
    "    b = np.arange(len(d)-1)[d[1:] != d[:-1]]\n",
    "    for i, j in zip(b, b[1:]+2):\n",
    "        m += lpSum(x[i:j]) >= 1 # (2)\n",
    "for k, d in groupby(sorted(zip(data.flat, v.flat)), lambda x:x[0]):\n",
    "    if k in nums:\n",
    "        m += lpSum(c[1] for c in d) == nums[k] # (3)\n",
    "for e in chain((v[1:,:] + v[:-1,:]).flat, (v[:,1:] + v[:,:-1]).flat):\n",
    "    m += e <= 1 # (4)\n",
    "def dirs(i, j):\n",
    "    return [(i+y-x)*nw + j+y+x-1 for y in range(2) for x in range(2)\n",
    "        if 0 <= i+y-x < nh and 0 <= j+y+x-1 < nw]\n",
    "while True:\n",
    "    %time m.solve()\n",
    "    r = np.vectorize(value)(v).astype(int)\n",
    "    u = unionfind(nh * nw)\n",
    "    if unionfind.isconnected(1-r, u):\n",
    "        break\n",
    "    dc = defaultdict(list)\n",
    "    for i, j in product(range(nh), range(nw)):\n",
    "        if r[i,j]:\n",
    "            for l in set(u.find(k) for k in dirs(j, i)):\n",
    "                dc[l].append(v[i][j])\n",
    "    for s in dc.values():\n",
    "        m += lpSum(s) <= len(s) - 1 # (5)\n",
    "data[r==1] = '#'\n",
    "print('\\n'.join(' '.join(i) for i in data))"
   ]
  }
 ],
 "metadata": {
  "anaconda-cloud": {},
  "kernelspec": {
   "display_name": "Python [default]",
   "language": "python",
   "name": "python3"
  },
  "language_info": {
   "codemirror_mode": {
    "name": "ipython",
    "version": 3
   },
   "file_extension": ".py",
   "mimetype": "text/x-python",
   "name": "python",
   "nbconvert_exporter": "python",
   "pygments_lexer": "ipython3",
   "version": "3.5.2"
  }
 },
 "nbformat": 4,
 "nbformat_minor": 1
}
