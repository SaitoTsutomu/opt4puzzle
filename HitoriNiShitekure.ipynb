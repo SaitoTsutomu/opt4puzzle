{
 "cells": [
  {
   "cell_type": "markdown",
   "metadata": {
    "cell_style": "split"
   },
   "source": [
    "<div style='float: right'><img src='pic/hitori.png'/></div>\n",
    "## <div id='hitori' />ひとりにしてくれ"
   ]
  },
  {
   "cell_type": "code",
   "execution_count": null,
   "metadata": {
    "cell_style": "split",
    "collapsed": true
   },
   "outputs": [],
   "source": [
    "import numpy as np\n",
    "from itertools import chain, product\n",
    "from pulp import *\n",
    "from unionfind import unionfind\n",
    "from ortoolpy import addvar, addvars, addbinvar, addbinvars\n",
    "data = np.array([list(s) for s in \"\"\"\\\n",
    "18626753\n",
    "31118222\n",
    "83247651\n",
    "37583314\n",
    "54467182\n",
    "71432535\n",
    "22834475\n",
    "22314465\"\"\".split()]).astype(int)\n",
    "nn = len(data)"
   ]
  },
  {
   "cell_type": "markdown",
   "metadata": {},
   "source": [
    "### 問題\n",
    "* 盤面に並んでいる数字のうちいくつかを黒くぬり、タテでもヨコでも同じ列に同じ数字が複数個入らないようにします\n",
    "* 黒マスをタテヨコに連続したり、黒マスで盤面を分断してはいけません\n",
    "\n",
    "### 変数\n",
    "* v：0:number, 1:black (1)\n",
    "\n",
    "### 制約\n",
    "* 黒以外の数字は縦横に重複しないこと (2)\n",
    "* 黒は連続しないこと (3)\n",
    "* 黒で分断しないこと (4)"
   ]
  },
  {
   "cell_type": "code",
   "execution_count": null,
   "metadata": {
    "collapsed": false
   },
   "outputs": [],
   "source": [
    "m = LpProblem()\n",
    "v = np.array(addbinvars(nn, nn)) # 0:number, 1:black (1)\n",
    "for i, j in product(range(nn), range(nn)):\n",
    "    for x in [v[i,:][data[i,:] == j+1], v[:,i][data[:,i] == j+1]]:\n",
    "        m += lpSum(x) >= len(x)-1 # (2)\n",
    "for e in chain((v[1:,:] + v[:-1,:]).flat, (v[:,1:] + v[:,:-1]).flat):\n",
    "    m += e <= 1 # (3)\n",
    "while True:\n",
    "    %time m.solve()\n",
    "    r = np.vectorize(value)(v)\n",
    "    if unionfind.isconnected(1-r):\n",
    "        break\n",
    "    m += lpSum(v[r==1]) <= r.sum() - 1 # (4)\n",
    "data[r==1] = 0\n",
    "data.tolist()"
   ]
  }
 ],
 "metadata": {
  "anaconda-cloud": {},
  "kernelspec": {
   "display_name": "Python [default]",
   "language": "python",
   "name": "python3"
  },
  "language_info": {
   "codemirror_mode": {
    "name": "ipython",
    "version": 3
   },
   "file_extension": ".py",
   "mimetype": "text/x-python",
   "name": "python",
   "nbconvert_exporter": "python",
   "pygments_lexer": "ipython3",
   "version": "3.5.2"
  }
 },
 "nbformat": 4,
 "nbformat_minor": 1
}
