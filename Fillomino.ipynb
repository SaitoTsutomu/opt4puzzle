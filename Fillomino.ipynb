{
 "cells": [
  {
   "cell_type": "markdown",
   "metadata": {
    "cell_style": "split"
   },
   "source": [
    "<div style='float: right'><img src='pic/fillomino.png'/></div>\n",
    "## <div id='fillomino' />フィルオミノ"
   ]
  },
  {
   "cell_type": "code",
   "execution_count": null,
   "metadata": {
    "cell_style": "split",
    "collapsed": false
   },
   "outputs": [],
   "source": [
    "import numpy as np\n",
    "from itertools import product\n",
    "from pulp import *\n",
    "from ortoolpy import addvar, addvars, addbinvar, addbinvars\n",
    "data = \"\"\"\\\n",
    ".2.4.2.\n",
    "1.2.6.6\n",
    "3..3..3\n",
    "...5...\n",
    "3..2..3\n",
    "3.2.4.2\n",
    ".3.3.1.\"\"\".split('\\n')\n",
    "n = len(data)"
   ]
  },
  {
   "cell_type": "markdown",
   "metadata": {
    "cell_style": "split"
   },
   "source": [
    "### 問題\n",
    "* 盤面のすべてのマスに数字を入れます\n",
    "* 同じ数字はその数字に等しい個数だけつながります\n",
    "* つながった同じ数字は、別の同じ数字のつながったものと辺を共有しません"
   ]
  },
  {
   "cell_type": "markdown",
   "metadata": {
    "cell_style": "split"
   },
   "source": [
    "### 変数\n",
    "* 略\n",
    "\n",
    "### 制約\n",
    "* 略"
   ]
  },
  {
   "cell_type": "markdown",
   "metadata": {},
   "source": [
    "---"
   ]
  },
  {
   "cell_type": "code",
   "execution_count": null,
   "metadata": {
    "cell_style": "center",
    "collapsed": false
   },
   "outputs": [],
   "source": [
    "dirs = ((-1,0),(0,-1),(0,1),(1,0))\n",
    "def chk(rl, pre):\n",
    "    for x, y in pre:\n",
    "        for dx, dy in dirs:\n",
    "            sx, sy = x+dx, y+dy\n",
    "            if [sx,sy] not in pre:\n",
    "                nw = np.array(sorted(pre + [[sx,sy]]))\n",
    "                nw = (nw-nw.min(0)).tolist()\n",
    "                if nw not in rl:\n",
    "                    rl.append(nw)\n",
    "candslist = [[np.array([(0,0)])]]\n",
    "for rem in range(2,7):\n",
    "    rl = []\n",
    "    for pre in candslist[rem-2]:\n",
    "        chk(rl, pre.tolist())\n",
    "    candslist.append([np.array(cands) for cands in rl])\n",
    "allcands = [cand for cands in candslist for cand in cands]\n",
    "cands = []\n",
    "lsts = [[] for _ in range(n*n)]\n",
    "lsbys = [[] for _ in range(6)]\n",
    "for i, j in product(range(n), range(n)):\n",
    "    cnds = candslist[int(data[i][j])-1] if data[i][j].isdigit() else allcands\n",
    "    for cnd in cnds:\n",
    "        cl = str(len(cnd))\n",
    "        for x, y in cnd:\n",
    "            sftcnd = cnd-(x,y)+(i,j)\n",
    "            xx, yy = sftcnd.T\n",
    "            if 0<=xx.min() and xx.max()<n and 0<=yy.min() and yy.max()<n:\n",
    "                for p, q in sftcnd:\n",
    "                    if data[p][q] != '.' and data[p][q] != cl:\n",
    "                        break\n",
    "                else:\n",
    "                    sftcnd = [tuple(xy) for xy in sftcnd]\n",
    "                    if sftcnd not in cands:\n",
    "                        t = len(cands)\n",
    "                        cands.append(sftcnd)\n",
    "                        for p, q in sftcnd:\n",
    "                            lsts[p*n+q].append(t)\n",
    "                        lsbys[len(sftcnd)-1].append(t)\n",
    "m = LpProblem()\n",
    "var = addbinvars(len(cands))\n",
    "for lst in lsts:\n",
    "    m += lpSum(var[i] for i in lst) == 1\n",
    "for lsby in lsbys:\n",
    "    nl = len(lsby)\n",
    "    for i in range(nl):\n",
    "        s = set((x+dx, y+dy) for x, y in cands[lsby[i]] for dx, dy in dirs)\n",
    "        for j in range(i+1, nl):\n",
    "            for k in cands[lsby[j]]:\n",
    "                if k in s:\n",
    "                    m += var[lsby[i]] + var[lsby[j]] <= 1\n",
    "                    break\n",
    "%time m.solve()\n",
    "print(m.status)\n",
    "res = [[0]*n for _ in range(n)]\n",
    "for i, b in enumerate(np.vectorize(value)(var)):\n",
    "    if b:\n",
    "        for x, y in cands[i]:\n",
    "            res[x][y] = len(cands[i])\n",
    "res"
   ]
  }
 ],
 "metadata": {
  "anaconda-cloud": {},
  "kernelspec": {
   "display_name": "Python 3",
   "language": "python",
   "name": "python3"
  },
  "language_info": {
   "codemirror_mode": {
    "name": "ipython",
    "version": 3
   },
   "file_extension": ".py",
   "mimetype": "text/x-python",
   "name": "python",
   "nbconvert_exporter": "python",
   "pygments_lexer": "ipython3",
   "version": "3.6.0"
  }
 },
 "nbformat": 4,
 "nbformat_minor": 2
}
