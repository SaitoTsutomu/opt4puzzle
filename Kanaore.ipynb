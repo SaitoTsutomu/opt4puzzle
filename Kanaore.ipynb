{
 "cells": [
  {
   "cell_type": "markdown",
   "metadata": {
    "cell_style": "split"
   },
   "source": [
    "<div style='float: right'><img src='pic/kanaore.png'/></div>\n",
    "## <div id='kanaore' />カナオレ"
   ]
  },
  {
   "cell_type": "code",
   "execution_count": null,
   "metadata": {
    "cell_style": "split",
    "collapsed": true
   },
   "outputs": [],
   "source": [
    "import numpy as np\n",
    "from pulp import *\n",
    "from ortoolpy import addvar, addvars, addbinvar, addbinvars\n",
    "data = [s.split(',') for s in \"\"\"\\\n",
    "1,0,↑,カナオレ\n",
    "4,0,↑,サムライン\n",
    "4,1,→,ナンスケ\n",
    "1,2,↓,ケイスケ\n",
    "0,3,↓,マツクロ\n",
    "3,4,↓,フイルオミノ\"\"\".split()]\n",
    "nh, nw = 5, 5\n",
    "def makecand(lst, y, x, d, l, p, u):\n",
    "    yy, xx = y+[0, -1, 0, 1][d], x+[-1, 0, 1, 0][d]\n",
    "    if 0 <= yy < nh and 0 <= xx < nw and (yy,xx) not in u:\n",
    "        if p == l - 1:\n",
    "            lst.append(u + [(yy, xx)])\n",
    "            return\n",
    "        for k in range(4):\n",
    "            makecand(lst, yy, xx, k, l, p + 1, u + [(yy,xx)])"
   ]
  },
  {
   "cell_type": "markdown",
   "metadata": {
    "cell_style": "split"
   },
   "source": [
    "### 問題\n",
    "* 全マスに１文字ずつ入れ、リストの言葉全部を盤面に作ります\n",
    "* どの言葉も、１文字目は言葉の前に書かれている数字のマスに入り、２文字目は矢印の方向に１つ進んだマスに入ります\n",
    "* ３文字目以降は、タテヨコにつながって入ります\n",
    "* １つの文字を複数の言葉が共通して使うこともあります\n",
    "* １つの文字を１つの言葉が複数回使うことはありません"
   ]
  },
  {
   "cell_type": "markdown",
   "metadata": {
    "cell_style": "split"
   },
   "source": [
    "### 変数\n",
    "* v：各マスの文字のID (1)\n",
    "* 各単語ごとに候補(lst)を作り\n",
    "  * vt：どの候補を選ぶか (2)\n",
    "\n",
    "### 制約\n",
    "* 候補から選ぶこと (3)\n",
    "* 候補を選んだら、その場所は、その文字とすること (4)"
   ]
  },
  {
   "cell_type": "code",
   "execution_count": null,
   "metadata": {
    "cell_style": "center",
    "collapsed": false
   },
   "outputs": [],
   "source": [
    "m = LpProblem()\n",
    "v = addvars(nh, nw) # (1)\n",
    "dic, dic2 = {}, {}\n",
    "for wd in data:\n",
    "    for c in wd[3]:\n",
    "        if not c in dic:\n",
    "            t = len(dic)\n",
    "            dic[c], dic2[t] = t, c\n",
    "    lst = []\n",
    "    y, x = int(wd[0]), int(wd[1])\n",
    "    makecand(lst, y,x, '←↑→↓'.index(wd[2]), len(wd[3]), 1, [(y,x)])\n",
    "    vt = addbinvars(len(lst)) # (2)\n",
    "    m += lpSum(vt) == 1 # (3)\n",
    "    for i, cand in enumerate(lst):\n",
    "        for j, (y,x) in enumerate(cand):\n",
    "            c = dic[wd[3][j]]\n",
    "            m += v[y][x] <= c + nw*nh*(1-vt[i]) # (4)\n",
    "            m += v[y][x] >= c - nw*nh*(1-vt[i]) # (4)\n",
    "%time m.solve()\n",
    "print('\\n'.join(' '.join(s) for s in np.vectorize(lambda x: dic2[int(value(x))])(v)))"
   ]
  }
 ],
 "metadata": {
  "kernelspec": {
   "display_name": "Python [default]",
   "language": "python",
   "name": "python3"
  },
  "language_info": {
   "codemirror_mode": {
    "name": "ipython",
    "version": 3
   },
   "file_extension": ".py",
   "mimetype": "text/x-python",
   "name": "python",
   "nbconvert_exporter": "python",
   "pygments_lexer": "ipython3",
   "version": "3.5.2"
  }
 },
 "nbformat": 4,
 "nbformat_minor": 2
}
