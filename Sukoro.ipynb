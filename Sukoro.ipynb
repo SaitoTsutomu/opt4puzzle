{
 "cells": [
  {
   "cell_type": "markdown",
   "metadata": {
    "cell_style": "split"
   },
   "source": [
    "<div style='float: right'><img src='pic/suukoro.png'/></div>\n",
    "## <div id='suukoro' />数コロ"
   ]
  },
  {
   "cell_type": "code",
   "execution_count": null,
   "metadata": {
    "cell_style": "split",
    "collapsed": true
   },
   "outputs": [],
   "source": [
    "import numpy as np\n",
    "from itertools import chain, product\n",
    "from pulp import *\n",
    "from unionfind import unionfind\n",
    "from ortoolpy import addvar, addvars, addbinvar, addbinvars\n",
    "data = \"\"\"\\\n",
    "..1...1\n",
    ".1.3.32\n",
    ".......\n",
    ".2.4.4.\n",
    ".......\n",
    "31.1.3.\n",
    "1...1..\"\"\".split()\n",
    "nw, nh = len(data[0]), len(data)"
   ]
  },
  {
   "cell_type": "markdown",
   "metadata": {},
   "source": [
    "### 問題\n",
    "* 全てのマスを１から４の数字か空白にします\n",
    "* 数字は、そのマスの隣接マスに数字が入るマスの数になります\n",
    "* 同じ数字を連続してはいけません\n",
    "* すべての数字を連結すること\n",
    "\n",
    "### 変数\n",
    "* v：0:white, 1-4:number (1)\n",
    "* r：数字 (2)\n",
    "\n",
    "### 制約\n",
    "* 数字があればその数字 (3)\n",
    "* 数字は1つ (4)\n",
    "* rをvで表現 (5)\n",
    "* 数字は周りの数字の数に等しいこと (6)\n",
    "* 同じ数字は連続しないこと (7)\n",
    "* 全ての数字がつながること (8)"
   ]
  },
  {
   "cell_type": "code",
   "execution_count": null,
   "metadata": {
    "collapsed": false,
    "scrolled": true
   },
   "outputs": [],
   "source": [
    "m = LpProblem()\n",
    "v = np.array(addbinvars(nh, nw, 5)) # 0:white, 1-4:number (1)\n",
    "u = np.zeros((nh+2, nw+2), dtype=object)\n",
    "u[1:-1,1:-1] = v[:,:,1:].sum(2)\n",
    "w = u[1:-1,2:]+u[1:-1,:-2]+u[2:,1:-1]+u[:-2,1:-1]\n",
    "r = np.array(addvars(nh, nw)) # (2)\n",
    "for i, j in product(range(nh), range(nw)):\n",
    "    if data[i][j].isdigit():\n",
    "        m += v[i,j,int(data[i][j])] == 1 # (3)\n",
    "    m += lpSum(v[i,j]) == 1 # (4)\n",
    "    m += lpDot(range(5), v[i,j]) == r[i,j] # (5)\n",
    "    m += w[i,j] >= r[i,j] # (6)\n",
    "    m += w[i,j] <= r[i,j] + 4*v[i,j,0] # (6)\n",
    "for k in range(1, 5):\n",
    "    for e in chain((v[1:,:,k]+v[:-1,:,k]).flat, (v[:,1:,k]+v[:,:-1,k]).flat):\n",
    "        m += e <= 1 # (7)\n",
    "while True:\n",
    "    %time m.solve()\n",
    "    s = np.vectorize(value)(r).astype(int)\n",
    "    break\n",
    "    if unionfind.isconnected(s==0):\n",
    "        break\n",
    "    m += lpSum(v[r==0]) >= 1 # (8)\n",
    "t = s.astype(str)\n",
    "t[s==0] = '.'\n",
    "print('\\n'.join(' '.join(s) for s in t))"
   ]
  }
 ],
 "metadata": {
  "anaconda-cloud": {},
  "kernelspec": {
   "display_name": "Python [default]",
   "language": "python",
   "name": "python3"
  },
  "language_info": {
   "codemirror_mode": {
    "name": "ipython",
    "version": 3
   },
   "file_extension": ".py",
   "mimetype": "text/x-python",
   "name": "python",
   "nbconvert_exporter": "python",
   "pygments_lexer": "ipython3",
   "version": "3.5.2"
  }
 },
 "nbformat": 4,
 "nbformat_minor": 1
}
