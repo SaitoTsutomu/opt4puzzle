{
 "cells": [
  {
   "cell_type": "markdown",
   "metadata": {
    "cell_style": "split"
   },
   "source": [
    "<div style='float: right'><img src='pic/ohno.png'/></div>\n",
    "## <div id='ohno' />オーノー"
   ]
  },
  {
   "cell_type": "code",
   "execution_count": null,
   "metadata": {
    "cell_style": "split",
    "collapsed": true
   },
   "outputs": [],
   "source": [
    "import numpy as np\n",
    "from pulp import *\n",
    "from itertools import product\n",
    "from ortoolpy import addvar, addvars, addbinvar, addbinvars\n",
    "data = \"\"\"\\\n",
    "4...\n",
    "3...\n",
    "...*\n",
    "*23.\"\"\".split()\n",
    "n = len(data)"
   ]
  },
  {
   "cell_type": "markdown",
   "metadata": {},
   "source": [
    "### 問題\n",
    "* マスに赤●か青●を必ずいれます\n",
    "* ＊は赤●の指定を表します\n",
    "* 数字は、自身も青●扱いとし、自信を除く上下左右に連なる青●の数を表します\n",
    "* 単独の青●は禁止します\n",
    "\n",
    "### 定式化\n",
    "\\begin{array}{cl}\n",
    "            変数 & x_{ij} \\in \\{0, 1\\} ~ \\forall i, j ~ ~ ~ マスi,jが青●か (1) \\\\\n",
    "            変数 & y_{ijk} \\ge 0 ~ \\forall i, j, k ~ ~ ~ マスi,jの方向kの青●連続数 (2) \\\\\n",
    "\\mbox{subject to} & yをxで表す (3) \\\\\n",
    "                 & 数字や*の指定 (4) \\\\\n",
    "                 & 単独青●の禁止 (5) \\\\\n",
    "\\end{array}"
   ]
  },
  {
   "cell_type": "code",
   "execution_count": null,
   "metadata": {
    "collapsed": true
   },
   "outputs": [],
   "source": [
    "def cons(m,x,y,i,j,k,dx,dy,bdi,bdj):\n",
    "    if i == bdi or j == bdj:\n",
    "        m += y[i,j,k] == 0 # (3)\n",
    "    else:\n",
    "        m += y[i,j,k] <= y[i+dx,j+dy,k]+1 # (3)\n",
    "        m += y[i,j,k] <= x[i+dx,j+dy]*(n-1) # (3)\n",
    "        m += y[i,j,k] >= y[i+dx,j+dy,k]+1 - n*(1-x[i+dx,j+dy]) # (3)"
   ]
  },
  {
   "cell_type": "code",
   "execution_count": null,
   "metadata": {
    "cell_style": "center",
    "collapsed": false
   },
   "outputs": [],
   "source": [
    "m = LpProblem()\n",
    "x = np.array(addbinvars(n, n)) # 青●か (1)\n",
    "y = np.array(addvars(n, n, 4)) # 縦、横、上右下左の連続数 (2)\n",
    "m += lpSum(x) # (3)\n",
    "for i, j in product(range(n),range(n)):\n",
    "    cons(m,x,y,i,j,0,-1, 0,  0,-1)\n",
    "    cons(m,x,y,i,j,1, 0, 1, -1,n-1)\n",
    "    cons(m,x,y,i,j,2, 1, 0,n-1,-1)\n",
    "    cons(m,x,y,i,j,3, 0,-1, -1,0)\n",
    "    if data[i][j] == '*':\n",
    "        m += x[i,j] == 0 # (4)\n",
    "    elif data[i][j].isdigit():\n",
    "        m += x[i,j] == 1 # (4)\n",
    "        m += lpSum(y[i,j]) == int(data[i][j]) # (4)\n",
    "    else:\n",
    "        m += lpSum(y[i,j]) >= x[i,j]\n",
    "%time m.solve()\n",
    "np.vectorize(value)(x).astype(int)"
   ]
  }
 ],
 "metadata": {
  "anaconda-cloud": {},
  "kernelspec": {
   "display_name": "Python [default]",
   "language": "python",
   "name": "python3"
  },
  "language_info": {
   "codemirror_mode": {
    "name": "ipython",
    "version": 3
   },
   "file_extension": ".py",
   "mimetype": "text/x-python",
   "name": "python",
   "nbconvert_exporter": "python",
   "pygments_lexer": "ipython3",
   "version": "3.5.2"
  }
 },
 "nbformat": 4,
 "nbformat_minor": 1
}
