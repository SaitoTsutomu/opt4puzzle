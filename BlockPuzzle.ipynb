{
 "cells": [
  {
   "cell_type": "markdown",
   "metadata": {
    "cell_style": "split"
   },
   "source": [
    "<div style='float: right'><img src='pic/block.png'/></div>\n",
    "## <div id='block' />ブロックパズル"
   ]
  },
  {
   "cell_type": "code",
   "execution_count": null,
   "metadata": {
    "cell_style": "split",
    "collapsed": false
   },
   "outputs": [],
   "source": [
    "import numpy as np\n",
    "from itertools import product\n",
    "from pulp import *\n",
    "from ortoolpy import addvar, addvars, addbinvar, addbinvars\n",
    "from unionfind import unionfind\n",
    "data = \"\"\"\\\n",
    "AAECD\n",
    "CDCDE\n",
    "ABDBA\n",
    "DEAEC\n",
    "ECBBB\"\"\".split()\n",
    "nw, nh = len(data[0]), len(data)\n",
    "nb = len(set(list(''.join(data)))) # 1ブロックの大きさ\n",
    "ns = nw * nh // nb # ブロック数"
   ]
  },
  {
   "cell_type": "markdown",
   "metadata": {
    "cell_style": "split"
   },
   "source": [
    "### 問題\n",
    "* 部品と部品の間に線を引いて、盤面を指定されたブロックに分けます\n",
    "* ブロックの中に部品がちょうど1つ入るようにします\n",
    "* それぞれのブロックに入る部品は、どれもタテかヨコにつながっているように\n",
    "\n",
    "### 変数\n",
    "* v：ブロック候補を選ぶかどうか # (1)\n",
    "\n",
    "### 制約\n",
    "* 各マスで選ばれた候補はちょうど1つ # (2)"
   ]
  },
  {
   "cell_type": "code",
   "execution_count": null,
   "metadata": {
    "cell_style": "split",
    "collapsed": false
   },
   "outputs": [],
   "source": [
    "chk = [False] * ns\n",
    "cand = [] # 候補\n",
    "def makecand(c, ca):\n",
    "    if len(ca) == ns:\n",
    "        if unionfind.isconnectedlist(nw, nh, ca):\n",
    "            cand.append(ca)\n",
    "        return\n",
    "    if c == nw * nh:\n",
    "        return\n",
    "    i, j = c % nw, c // nw\n",
    "    k = ord(data[i][j]) - 65\n",
    "    if not chk[k]:\n",
    "        chk[k] = True\n",
    "        makecand(c + 1, ca + [(i, j)])\n",
    "        chk[k] = False\n",
    "    makecand(c + 1, ca)\n",
    "makecand(0, [])\n",
    "nn = len(cand)"
   ]
  },
  {
   "cell_type": "code",
   "execution_count": null,
   "metadata": {
    "collapsed": false
   },
   "outputs": [],
   "source": [
    "m = LpProblem()\n",
    "v = addbinvars(nn) # (1)\n",
    "e = [[LpAffineExpression() == 1 for j in range(nw)] for i in range(nh)]\n",
    "for i, j in product(range(nh), range(nw)):\n",
    "    m += e[i][j] # (2)\n",
    "for k in range(nn):\n",
    "    for i, j in cand[k]:\n",
    "        e[i][j].addterm(v[k], 1)\n",
    "%time m.solve()\n",
    "r = [[0]*nw for _ in range(nh)]\n",
    "for i, j in enumerate(np.array(cand)[np.vectorize(value)(v) == 1]):\n",
    "    for y, x in j:\n",
    "        r[y][x] = i\n",
    "r"
   ]
  }
 ],
 "metadata": {
  "anaconda-cloud": {},
  "kernelspec": {
   "display_name": "Python [default]",
   "language": "python",
   "name": "python3"
  },
  "language_info": {
   "codemirror_mode": {
    "name": "ipython",
    "version": 3
   },
   "file_extension": ".py",
   "mimetype": "text/x-python",
   "name": "python",
   "nbconvert_exporter": "python",
   "pygments_lexer": "ipython3",
   "version": "3.5.2"
  }
 },
 "nbformat": 4,
 "nbformat_minor": 1
}
