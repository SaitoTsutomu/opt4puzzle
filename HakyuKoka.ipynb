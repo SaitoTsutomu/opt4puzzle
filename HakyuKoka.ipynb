{
 "cells": [
  {
   "cell_type": "markdown",
   "metadata": {
    "cell_style": "split"
   },
   "source": [
    "<div style='float: right'><img src='pic/ripple.png'/></div>\n",
    "## <div id='ripple' />波及効果"
   ]
  },
  {
   "cell_type": "code",
   "execution_count": null,
   "metadata": {
    "cell_style": "split",
    "collapsed": false
   },
   "outputs": [],
   "source": [
    "import numpy as np\n",
    "from pulp import *\n",
    "from ortoolpy import addvar, addvars, addbinvar, addbinvars\n",
    "data = \"\"\"\\\n",
    "...3..\n",
    "......\n",
    "..2..4\n",
    "3..4..\n",
    "......\n",
    "..2...\"\"\".split()\n",
    "rms = [[eval(t) for t in s.split('/')] for s in \"\"\"\\\n",
    "0,0\n",
    "0,1/0,2/1,2\n",
    "0,3/1,3/1,4/2,3\n",
    "0,4\n",
    "0,5/1,5/2,4/2,5/3,5\n",
    "1,0/1,1\n",
    "2,0/3,0/3,1/4,1\n",
    "2,1/2,2/3,2/4,2\n",
    "3,3/4,3/5,1/5,2/5,3\n",
    "3,4\n",
    "4,0/5,0\n",
    "4,4/4,5/5,5\n",
    "5,4\"\"\".split()]\n",
    "nw, nh = len(data[0]), len(data)\n",
    "na = max(len(rm) for rm in rms)"
   ]
  },
  {
   "cell_type": "markdown",
   "metadata": {},
   "source": [
    "### 問題\n",
    "* 各部屋のマスには1からその部屋のマス数までの数を1つずつ入れます\n",
    "* 同じ数字を同じ横行、または同じ縦列に入れる場合、数字と数字の間にその数字と同じ数以上のマス目がなくてはなりません\n",
    "\n",
    "### 変数\n",
    "* v：各位置がどの数字か (1)\n",
    "* r：各位置の数字 (2)\n",
    "\n",
    "### 制約\n",
    "* 数字があれば、その数字 (3)\n",
    "* 数字は１つのみ (4)\n",
    "* rをvで表現 (5)\n",
    "* nマス以内に2つ以上の数字nはないこと (6)\n",
    "* 各部屋内で同じ数字はないこと (7)"
   ]
  },
  {
   "cell_type": "code",
   "execution_count": null,
   "metadata": {
    "collapsed": false
   },
   "outputs": [],
   "source": [
    "m = LpProblem()\n",
    "v = addbinvars(nh, nw, na) # (1)\n",
    "r = addvars(nh, nw) # (2)\n",
    "def dirs(i, j, k):\n",
    "    yield from (v[i+l][j][k] for l in range(1, k+2) if i+l < nh)\n",
    "    yield from (v[i][j+l][k] for l in range(1, k+2) if j+l < nw)\n",
    "for i in range(nh):\n",
    "    for j in range(nw):\n",
    "        if data[i][j].isdigit():\n",
    "            m += r[i][j] == int(data[i][j]) # (3)\n",
    "        m += lpSum(v[i][j]) == 1 # (4)\n",
    "        m += lpDot(range(na), v[i][j]) + 1 == r[i][j] # (5)\n",
    "        for k in range(na):\n",
    "            m += lpSum(dirs(i,j,k)) <= 2*(1-v[i][j][k]) # (6)\n",
    "for rm in rms:\n",
    "    for k in range(len(rm)):\n",
    "        m += lpSum(v[i][j][k] for i,j in rm) == 1 # (7)\n",
    "%time m.solve()\n",
    "np.vectorize(value)(r).astype(int).tolist()"
   ]
  }
 ],
 "metadata": {
  "anaconda-cloud": {},
  "kernelspec": {
   "display_name": "Python [default]",
   "language": "python",
   "name": "python3"
  },
  "language_info": {
   "codemirror_mode": {
    "name": "ipython",
    "version": 3
   },
   "file_extension": ".py",
   "mimetype": "text/x-python",
   "name": "python",
   "nbconvert_exporter": "python",
   "pygments_lexer": "ipython3",
   "version": "3.5.2"
  }
 },
 "nbformat": 4,
 "nbformat_minor": 1
}
