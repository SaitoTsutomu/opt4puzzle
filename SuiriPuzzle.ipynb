{
 "cells": [
  {
   "cell_type": "markdown",
   "metadata": {
    "cell_style": "split"
   },
   "source": [
    "<div style='float: right'><img src='pic/suiri.png'/></div>\n",
    "## <div id='suiri' />推理パズル"
   ]
  },
  {
   "cell_type": "code",
   "execution_count": null,
   "metadata": {
    "cell_style": "split",
    "collapsed": false
   },
   "outputs": [],
   "source": [
    "import numpy as np\n",
    "from itertools import product\n",
    "from pulp import *\n",
    "from ortoolpy import addvar, addvars, addbinvar, addbinvars\n",
    "kinds = [['akira','isamu','tadashi','hiroshi'],\n",
    "         ['umbrella','shoes','paper','string'],\n",
    "         ['red','blue','white','black']]\n",
    "dic = {k:v for kind in kinds for v, k in enumerate(kind)}\n",
    "data = [s.split(',') for s in \"\"\"\\\n",
    "1,akira,,white\n",
    "0,akira,string,\n",
    "1,,paper,blue\n",
    "0,isamu,paper,\n",
    "1,tadashi,shoes,\n",
    "0,tadashi,,red\"\"\".split()]"
   ]
  },
  {
   "cell_type": "markdown",
   "metadata": {},
   "source": [
    "### 問題\n",
    "* 3つの組(kinds)を入力し、各組間の対応を求めます\n",
    "* ヒント(data)の意味\n",
    "    * 明は白いのを買った\n",
    "    * 明は糸じゃない\n",
    "    * 青い紙を買った人がいる\n",
    "    * 勇は紙じゃない\n",
    "    * 正は靴を買った\n",
    "    * 正は赤じゃない\n",
    "\n",
    "### 変数\n",
    "* $v_{ijk}$: 表iの位置(j,k) (1)\n",
    "\n",
    "### 制約\n",
    "* 縦横で丸は1つ (2)\n",
    "* AかつB、BかつCなら、CかつA (3)\n",
    "* ヒントを満たすこと (4)"
   ]
  },
  {
   "cell_type": "code",
   "execution_count": null,
   "metadata": {
    "collapsed": false
   },
   "outputs": [],
   "source": [
    "m = LpProblem()\n",
    "v = np.array(addbinvars(3, 4, 4)) # (1)\n",
    "for i in range(4):\n",
    "    for j in range(3):\n",
    "        m += lpSum(v[j,i,:]) == 1 # (2)\n",
    "        m += lpSum(v[j,:,i]) == 1 # (2)\n",
    "    for j, k, l in product(range(4), range(4), range(3)):\n",
    "        m += v[l,i,j] + v[(l+1)%3,j,k] - v[(l+2)%3,k,i] <= 1 # (3)\n",
    "for h in data:\n",
    "    c0, c1, c2, c3 = int(h[0]), *[dic.get(i) for i in h[1:]]\n",
    "    for i, (j, k) in enumerate([(c1,c2), (c2,c3), (c3,c1)]):\n",
    "        if None not in (j, k):\n",
    "            m += v[i,j,k] == c0 # (6)\n",
    "%time m.solve()\n",
    "r = np.vectorize(value)(v)\n",
    "for i in range(4):\n",
    "    j = r[0][i].argmax()\n",
    "    print(kinds[0][i], kinds[1][j], kinds[2][r[1][j].argmax()])"
   ]
  }
 ],
 "metadata": {
  "anaconda-cloud": {},
  "kernelspec": {
   "display_name": "Python [default]",
   "language": "python",
   "name": "python3"
  },
  "language_info": {
   "codemirror_mode": {
    "name": "ipython",
    "version": 3
   },
   "file_extension": ".py",
   "mimetype": "text/x-python",
   "name": "python",
   "nbconvert_exporter": "python",
   "pygments_lexer": "ipython3",
   "version": "3.5.2"
  }
 },
 "nbformat": 4,
 "nbformat_minor": 1
}
