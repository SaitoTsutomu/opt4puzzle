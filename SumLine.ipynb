{
 "cells": [
  {
   "cell_type": "markdown",
   "metadata": {
    "cell_style": "split"
   },
   "source": [
    "<div style='float: right'><img src='pic/sumline.png'/></div>\n",
    "## <div id='sumline' />サムライン"
   ]
  },
  {
   "cell_type": "code",
   "execution_count": null,
   "metadata": {
    "cell_style": "split",
    "collapsed": true
   },
   "outputs": [],
   "source": [
    "import numpy as np\n",
    "from itertools import product\n",
    "from pulp import *\n",
    "from ortoolpy import addvar, addvars, addbinvar, addbinvars\n",
    "data = \"\"\"\\\n",
    "....*.\n",
    ".*....\n",
    "...*.*\n",
    "*.*...\n",
    "....*.\n",
    ".*....\"\"\".split('\\n')\n",
    "hh = [1687, 8361, 465, 721, 9139, 5700]\n",
    "hw = [266, 597, 824, 829, 570, 352]\n",
    "nw, nh = len(hw), len(hh)"
   ]
  },
  {
   "cell_type": "markdown",
   "metadata": {
    "cell_style": "split"
   },
   "source": [
    "### 問題\n",
    "* 1から9の数字をいれます\n",
    "* タテヨコ各列のカギは、その列に入る数の合計です\n",
    "* タテもヨコも、同じ数字は１つまでです\n",
    "\n",
    "### 変数\n",
    "* v (1)\n",
    "* r (2)\n",
    "\n",
    "### 制約\n",
    "* $v_{ij}$は1つ (3)\n",
    "* rをvで表現 (4)\n",
    "* 縦も横も同じ数字は1つまで (5)\n",
    "* ヒントを満たすこと (6)"
   ]
  },
  {
   "cell_type": "code",
   "execution_count": null,
   "metadata": {
    "cell_style": "split",
    "collapsed": true
   },
   "outputs": [],
   "source": [
    "def addsum(data, r, i, j, y, x):\n",
    "    e, f = LpAffineExpression(), LpAffineExpression()\n",
    "    while i < nh and j < nw:\n",
    "        if data[i][j] == '.':\n",
    "            f = 10*f + r[i,j]\n",
    "        else:\n",
    "            e, f = e+f, LpAffineExpression()\n",
    "        i, j = i+y, j+x\n",
    "    return e + f"
   ]
  },
  {
   "cell_type": "code",
   "execution_count": null,
   "metadata": {
    "collapsed": false
   },
   "outputs": [],
   "source": [
    "m = LpProblem()\n",
    "v = np.array(addbinvars(nh, nw, 9)) # (1)\n",
    "r = np.array(addvars(nh, nw)) # (2)\n",
    "for i, j in product(range(nh), range(nw)):\n",
    "    m += lpSum(v[i,j]) == 1 # (3)\n",
    "    m += lpDot(range(9), v[i,j])+1 == r[i,j] # (4)\n",
    "for k in range(9):\n",
    "    for i in range(nh):\n",
    "        m += lpSum(v[i,:,k]) <= 1 # (5)\n",
    "    for j in range(nw):\n",
    "        m += lpSum(v[:,j,k]) <= 1 # (5)\n",
    "for i in range(nh):\n",
    "    m += addsum(data, r, i, 0, 0, 1) == hh[i] # (6)\n",
    "for j in range(nw):\n",
    "    m += addsum(data, r, 0, j, 1, 0) == hw[j] # (6)\n",
    "%time m.solve()\n",
    "s = np.vectorize(value)(r).astype(int)\n",
    "s[np.array([list(s) for s in data]) != '.'] = 0\n",
    "print('\\n'.join(''.join(str(c) if c else ' ' for c in t) for t in s))"
   ]
  }
 ],
 "metadata": {
  "anaconda-cloud": {},
  "kernelspec": {
   "display_name": "Python [default]",
   "language": "python",
   "name": "python3"
  },
  "language_info": {
   "codemirror_mode": {
    "name": "ipython",
    "version": 3
   },
   "file_extension": ".py",
   "mimetype": "text/x-python",
   "name": "python",
   "nbconvert_exporter": "python",
   "pygments_lexer": "ipython3",
   "version": "3.5.2"
  }
 },
 "nbformat": 4,
 "nbformat_minor": 2
}
