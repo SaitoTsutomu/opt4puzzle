{
 "cells": [
  {
   "cell_type": "markdown",
   "metadata": {
    "cell_style": "split"
   },
   "source": [
    "<div style='float: right'><img src='pic/skeleton.png'/></div>\n",
    "## <div id='nskeleton' />スケルトン"
   ]
  },
  {
   "cell_type": "code",
   "execution_count": null,
   "metadata": {
    "cell_style": "split",
    "collapsed": false
   },
   "outputs": [],
   "source": [
    "import numpy as np\n",
    "from itertools import product, takewhile\n",
    "from pulp import *\n",
    "from ortoolpy import addvar, addvars, addbinvar, addbinvars\n",
    "data = \"\"\"\\\n",
    "*.*...*\n",
    "*.*.*.*\n",
    "....*.*\n",
    "*.***..\n",
    "*...***\n",
    "*.*....\"\"\".split()\n",
    "wds = \"\"\"\\\n",
    "ウメ\n",
    "キク\n",
    "サクラ\n",
    "サツキ\n",
    "ツバキ\n",
    "ガーベラ\n",
    "キキヨウ\n",
    "クチナシ\n",
    "チューリツプ\"\"\".split()\n",
    "nw, nh = len(data[0]), len(data)"
   ]
  },
  {
   "cell_type": "markdown",
   "metadata": {},
   "source": [
    "### 問題\n",
    "* 1つの白マスには0から9までの数字が1つだけ入ります\n",
    "* 連続した白マスの数字をつなげると、与えられたナンバーの1つになります\n",
    "* 各ナンバーはそのようにして一度しか出ません。\n",
    "  * 異なる場所にある連続した白マスから同じナンバーは出ません\n",
    "* 与えられたナンバーは全て盤面の中に見つかります\n",
    "* <a href='な.ナンバースケルトン.ipynb'>参考</a>\n",
    "\n",
    "### 変数\n",
    "* 省略\n",
    "\n",
    "### 制約\n",
    "* 省略"
   ]
  },
  {
   "cell_type": "code",
   "execution_count": null,
   "metadata": {
    "collapsed": false
   },
   "outputs": [],
   "source": [
    "# 文字->index of dic2, index->文字, 文字数->(単語リスト,位置リスト)\n",
    "dic1, dic2, dic3 = {}, {}, {}\n",
    "for wd in wds:\n",
    "    for c in wd:\n",
    "        if c not in dic1:\n",
    "            dic1[c], dic2[len(dic2)] = len(dic2), c\n",
    "    dic3.setdefault(len(wd), ([], []))[0].append(wd)\n",
    "M = len(dic1)\n",
    "chk = lambda yx: 0<=yx[0]<nh and 0<=yx[1]<nw and data[yx[0]][yx[1]]!='*'\n",
    "def adddc(sp):\n",
    "    if len(sp) > 1:\n",
    "        dic3[len(sp)][1].append(sp)\n",
    "m = LpProblem()\n",
    "v = addvars(nh, nw)\n",
    "for i, j in product(range(nh), range(nw)):\n",
    "    if i == 0 or data[i-1][j] == '*':\n",
    "        adddc(list(takewhile(chk, [(i+k,j) for k in range(nw)])))\n",
    "    if j == 0 or data[i][j-1] == '*':\n",
    "        adddc(list(takewhile(chk, [(i,j+k) for k in range(nh)])))\n",
    "for nl, (wl, pl) in dic3.items():\n",
    "    nc = len(wl)\n",
    "    w = np.array(addbinvars(nc, nc))\n",
    "    for i in range(nc):\n",
    "        m += lpSum(w[i,:]) == 1\n",
    "        m += lpSum(w[:,i]) == 1\n",
    "        for j in range(nc):\n",
    "            wd = wl[j]\n",
    "            for k in range(nl):\n",
    "                (y, x), a = pl[i][k], dic1[wd[k]]\n",
    "                m += v[y][x] <= a + M * (1 - w[i,j])\n",
    "                m += v[y][x] >= a - M * (1 - w[i,j])\n",
    "%time m.solve()\n",
    "r = np.vectorize(value)(v)\n",
    "print('\\n'.join(' '.join(s) for s in np.vectorize(\n",
    "    lambda x: dic2[int(x)] if x is not None else '  ')(r)))"
   ]
  }
 ],
 "metadata": {
  "anaconda-cloud": {},
  "kernelspec": {
   "display_name": "Python [default]",
   "language": "python",
   "name": "python3"
  },
  "language_info": {
   "codemirror_mode": {
    "name": "ipython",
    "version": 3
   },
   "file_extension": ".py",
   "mimetype": "text/x-python",
   "name": "python",
   "nbconvert_exporter": "python",
   "pygments_lexer": "ipython3",
   "version": "3.5.2"
  }
 },
 "nbformat": 4,
 "nbformat_minor": 1
}
