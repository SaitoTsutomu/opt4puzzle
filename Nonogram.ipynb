{
 "cells": [
  {
   "cell_type": "markdown",
   "metadata": {
    "cell_style": "split"
   },
   "source": [
    "<div style='float: right'><img src='pic/nonogram.png'/></div>\n",
    "## <div id='nonogram' />ののぐらむ"
   ]
  },
  {
   "cell_type": "code",
   "execution_count": null,
   "metadata": {
    "cell_style": "split",
    "collapsed": true
   },
   "outputs": [],
   "source": [
    "%matplotlib inline\n",
    "import numpy as np, matplotlib.pyplot as plt\n",
    "from pulp import *\n",
    "from ortoolpy import addvar, addvars, addbinvar, addbinvars\n",
    "hinth = [[int(s) for s in t.split(',')] for t in\n",
    "         '2 3,2 2,3 2,2 8 7 1,4 3,3 1,1 3'.split()]\n",
    "hintv = [[int(s) for s in t.split(',')] for t in\n",
    "         '2 1,2 1,5 5,2 1,2,1 3 6 1,3,2,1 3,4 1,1'.split()]"
   ]
  },
  {
   "cell_type": "markdown",
   "metadata": {},
   "source": [
    "### 問題\n",
    "* 各横行の左、各縦列の上にある数字は、その行(列)の中で連続して黒く塗る白マスの数を表します\n",
    "* 1つの行(列)に対して数字が複数ある場合は、数字の並び順どおりにその数字の数だけ連続して黒く塗ります\n",
    "* 1 つの行(列)に対して数字が複数ある場合は、その数字が表す黒マスの連続の間に1マス以上の白マス(塗らないマス) が入ります\n",
    "\n",
    "### 定式化\n",
    "\\begin{array}{cl}\n",
    "            変数 & v_{ij} \\in \\{0, 1\\} ~ \\forall i, j ~ ~ ~ マスi,jが黒かどうか (1) \\\\\n",
    "                 & r_{k} \\in \\{0, 1\\} ~ \\forall k, 縦または横 ~ ~ ~ ~ ~ 縦または横ごとにk番目の候補を選ぶかどうか (2) \\\\\n",
    "\\mbox{subject to} & \\sum_k{r_k} = 1 ~ \\forall 縦または横 ~ ~ ~ ~ 縦または横ごとに候補の中から1つ (3) \\\\\n",
    "                 & 候補を選んだらマスの色は候補の通り (4) \\\\\n",
    "\\end{array}"
   ]
  },
  {
   "cell_type": "code",
   "execution_count": null,
   "metadata": {
    "collapsed": false,
    "scrolled": false
   },
   "outputs": [],
   "source": [
    "def baselist(i, j, k):\n",
    "    return [0] * i + [1] * j + [0] * k\n",
    "def makelist(n, l):\n",
    "    p = l[-1]\n",
    "    if len(l) == 1:\n",
    "        if n < p: return None\n",
    "        return [baselist(i, p, n - p - i) for i in range(n - p + 1)]\n",
    "    ll = l[:-1]\n",
    "    s = sum(ll) + len(ll) - 1\n",
    "    return [j + baselist(1, p, n - p - s - i - 1) \\\n",
    "        for i in range(n - p - s) for j in makelist(i + s, ll)]\n",
    "def do(m, v, hint):\n",
    "    for i, hh in enumerate(hint):\n",
    "        l = makelist(v.shape[0], hh)\n",
    "        r = addbinvars(len(l)) # (2)\n",
    "        m += lpSum(r) == 1 # (3)\n",
    "        for j, c in enumerate(l):\n",
    "            for k, b in enumerate(c):\n",
    "                m += (1 - 2 * b) * v[k,i] <= 1 - b - r[j] # (4)\n",
    "m = LpProblem()\n",
    "v = np.array(addvars(len(hintv), len(hinth))) # (1)\n",
    "do(m, v, hinth)\n",
    "do(m, v.T, hintv)\n",
    "%time m.solve()\n",
    "plt.imshow(1-np.vectorize(value)(v), cmap='gray', interpolation='none');"
   ]
  }
 ],
 "metadata": {
  "anaconda-cloud": {},
  "kernelspec": {
   "display_name": "Python [default]",
   "language": "python",
   "name": "python3"
  },
  "language_info": {
   "codemirror_mode": {
    "name": "ipython",
    "version": 3
   },
   "file_extension": ".py",
   "mimetype": "text/x-python",
   "name": "python",
   "nbconvert_exporter": "python",
   "pygments_lexer": "ipython3",
   "version": "3.5.2"
  }
 },
 "nbformat": 4,
 "nbformat_minor": 1
}
