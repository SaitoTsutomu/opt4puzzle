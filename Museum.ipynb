{
 "cells": [
  {
   "cell_type": "markdown",
   "metadata": {
    "cell_style": "split"
   },
   "source": [
    "<div style='float: right'><img src='pic/museum.png'/></div>\n",
    "## <div id='museum' />美術館"
   ]
  },
  {
   "cell_type": "code",
   "execution_count": null,
   "metadata": {
    "cell_style": "split",
    "collapsed": true
   },
   "outputs": [],
   "source": [
    "%matplotlib inline\n",
    "import numpy as np, matplotlib.pyplot as plt\n",
    "from itertools import groupby\n",
    "from pulp import *\n",
    "from ortoolpy import addvar, addvars, addbinvar, addbinvars\n",
    "data = np.array([list(s) for s in \"\"\"\\\n",
    "#.....#\n",
    "..4...1\n",
    "...2...\n",
    ".#...1.\n",
    "...#...\n",
    "0...#..\n",
    "#.....1\"\"\".split()])"
   ]
  },
  {
   "cell_type": "markdown",
   "metadata": {},
   "source": [
    "### 問題\n",
    "* 黒マスに入っている数字は、それと隣接する縦横両隣の最大4つの白マスに入る○の数を表します\n",
    "* 照明は，そのマスから上下左右に黒マスか外枠にぶつかるまでの範囲を照らします\n",
    "* 斜めには照らすことはできません\n",
    "* どの照明にも照らされていない白マスがあってはいけません\n",
    "* 照明のあるマスは他の照明で照らされてはいけません\n",
    "\n",
    "### 変数\n",
    "* v:各マスに照明をおくかどうか (1)\n",
    "\n",
    "### 制約\n",
    "* 白マスの並びの中で照明は1つ以下 (2)\n",
    "* 各マスは1つ以上の照明で照らされること (3)\n",
    "* 数字の周りに同じ数の照明 (4)\n",
    "* 数字に照明はおけない (5)"
   ]
  },
  {
   "cell_type": "code",
   "execution_count": null,
   "metadata": {
    "collapsed": false
   },
   "outputs": [],
   "source": [
    "m = LpProblem()\n",
    "u = np.array(addbinvars(data.shape[0]+2, data.shape[1]+2))\n",
    "u[0] = u[-1] = u[:,0] = u[:,-1] = 0\n",
    "v = u[1:-1,1:-1] # (1)\n",
    "a = [[] for _ in range(v.shape[0] * v.shape[1])] # 見えるマス\n",
    "b = np.arange(v.size).reshape(v.shape) # aのindex\n",
    "c = data == '.' # 白マス\n",
    "v[~c] = 0 # 黒マスは0 (5)\n",
    "for v_, b_, c_ in [(v, b, c), (v.T, b.T, c.T)]:\n",
    "    for vv, bb, cc in zip(v_, b_, c_):\n",
    "        d = [0] + (cc[1:] != cc[:-1]).cumsum().tolist()\n",
    "        g = groupby(zip(d,bb,cc,vv), lambda a: a[0])\n",
    "        for e in [list(i[1]) for i in g]:\n",
    "            f = lpSum(j[3] for j in e)\n",
    "            if f:\n",
    "                m += f <= 1 # (2)\n",
    "                for j in e:\n",
    "                    a[j[1]].append(f)\n",
    "for aa in a:\n",
    "    if aa:\n",
    "        m += lpSum(aa) >= 1 # (3)\n",
    "w = u[:-2,1:-1] + u[1:-1,2:] + u[2:,1:-1] + u[1:-1,:-2]\n",
    "for h, e in zip(data.flat, w.flat):\n",
    "    if h.isdigit():\n",
    "        m += lpSum(e) == int(h) # (4)\n",
    "%time m.solve()\n",
    "plt.imshow(c+np.vectorize(value)(v), cmap='gray', interpolation='none');"
   ]
  }
 ],
 "metadata": {
  "anaconda-cloud": {},
  "kernelspec": {
   "display_name": "Python [default]",
   "language": "python",
   "name": "python3"
  },
  "language_info": {
   "codemirror_mode": {
    "name": "ipython",
    "version": 3
   },
   "file_extension": ".py",
   "mimetype": "text/x-python",
   "name": "python",
   "nbconvert_exporter": "python",
   "pygments_lexer": "ipython3",
   "version": "3.5.2"
  }
 },
 "nbformat": 4,
 "nbformat_minor": 1
}
