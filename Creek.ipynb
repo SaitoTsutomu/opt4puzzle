{
 "cells": [
  {
   "cell_type": "markdown",
   "metadata": {
    "cell_style": "split"
   },
   "source": [
    "<div style='float: right'><img src='pic/kuriku.png'/></div>\n",
    "## <div id='kuriku' />クリーク"
   ]
  },
  {
   "cell_type": "code",
   "execution_count": null,
   "metadata": {
    "cell_style": "split",
    "collapsed": true,
    "scrolled": true
   },
   "outputs": [],
   "source": [
    "%matplotlib inline\n",
    "import numpy as np, matplotlib.pyplot as plt\n",
    "from itertools import product\n",
    "from pulp import *\n",
    "from unionfind import unionfind\n",
    "from ortoolpy import addvar, addvars, addbinvar, addbinvars\n",
    "data = \"\"\"\\\n",
    "....1.\n",
    "0.....\n",
    "..3.4.\n",
    ".2.12.\n",
    "...1.1\n",
    "......\"\"\".split()\n",
    "nw, nh = len(data[0])-1, len(data)-1"
   ]
  },
  {
   "cell_type": "markdown",
   "metadata": {},
   "source": [
    "### 問題\n",
    "* いくつかのマスを黒くぬります\n",
    "* 数字は、数字が隣接するマス中の黒マスの数を表します\n",
    "* すべての白マスは連結すること\n",
    "\n",
    "### 変数\n",
    "* v：0:white, 1:black (1)\n",
    "\n",
    "### 制約\n",
    "* 数字と黒マス数が等しいこと (2)\n",
    "* 全白マスが連結すること (3)"
   ]
  },
  {
   "cell_type": "code",
   "execution_count": null,
   "metadata": {
    "collapsed": false,
    "scrolled": true
   },
   "outputs": [],
   "source": [
    "m = LpProblem()\n",
    "u = np.zeros((nh+2, nw+2), dtype=object)\n",
    "v = u[1:-1,1:-1] = np.array(addbinvars(nh, nw)) # 0:white, 1:black (1)\n",
    "for i, j in product(range(nh+1), range(nw+1)):\n",
    "    if data[i][j].isdigit():\n",
    "        m += lpSum(u[i:i+2,j:j+2]) == int(data[i][j]) # (2)\n",
    "while True:\n",
    "    %time m.solve()\n",
    "    r = np.vectorize(value)(v)\n",
    "    if unionfind.isconnected(r!=1):\n",
    "        break\n",
    "    m += lpSum(v[r==1]) <= (r==1).sum()-1 # (3)\n",
    "plt.imshow(1-r, cmap='gray', interpolation='none');"
   ]
  }
 ],
 "metadata": {
  "anaconda-cloud": {},
  "kernelspec": {
   "display_name": "Python [default]",
   "language": "python",
   "name": "python3"
  },
  "language_info": {
   "codemirror_mode": {
    "name": "ipython",
    "version": 3
   },
   "file_extension": ".py",
   "mimetype": "text/x-python",
   "name": "python",
   "nbconvert_exporter": "python",
   "pygments_lexer": "ipython3",
   "version": "3.5.2"
  }
 },
 "nbformat": 4,
 "nbformat_minor": 1
}
