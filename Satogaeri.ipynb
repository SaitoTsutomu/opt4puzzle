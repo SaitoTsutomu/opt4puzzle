{
 "cells": [
  {
   "cell_type": "markdown",
   "metadata": {
    "cell_style": "split"
   },
   "source": [
    "<div style='float: right'><img src='pic/satogaeri.png'/></div>\n",
    "## <div id='satogaeri' />さとがえり"
   ]
  },
  {
   "cell_type": "code",
   "execution_count": null,
   "metadata": {
    "cell_style": "split",
    "collapsed": true
   },
   "outputs": [],
   "source": [
    "from itertools import groupby, product, takewhile\n",
    "from pulp import *\n",
    "from ortoolpy import addvar, addvars, addbinvar, addbinvars\n",
    "data = [list(s) for s in \"\"\"\\\n",
    "aaaaabbbcd\n",
    "aeeeabfffd\n",
    "ghehijjjfd\n",
    "ghhhikljfm\n",
    "giiiikljmm\n",
    "nnopqrrrrs\n",
    "ntopqruuus\n",
    "vtoooruwus\n",
    "vtttxywwwy\n",
    "vzxxxyyyyy\"\"\".split()]\n",
    "hint = [(0,1,-1),(0,7,2),(0,9,-1),(1,2,2),(1,8,0),(2,6,1),\n",
    "  (2,7,0),(3,0,1),(3,4,-1),(3,9,2),(4,4,2),(5,0,-1),(5,1,0),\n",
    "  (5,4,2),(5,8,-1),(6,0,-1),(6,7,1),(7,4,-1),(8,1,2),(9,0,2),\n",
    "  (9,2,-1),(9,3,1),(9,6,1),(9,7,2),(9,8,3),(9,9,4)]\n",
    "nw, nh = len(data[0]), len(data)\n",
    "mx = max(nw, nh) + 1\n",
    "dc = {(i,j) for i,j,_ in hint}\n",
    "chk = lambda yx: 0<=yx[0]<nh and 0<=yx[1]<nw and yx not in dc"
   ]
  },
  {
   "cell_type": "markdown",
   "metadata": {
    "cell_style": "split"
   },
   "source": [
    "### 問題\n",
    "* ○をタテヨコいずれかにまっすぐ移動し、すべての○が、太線で区切られたところ（国）１つにつき１つずつ入るようにします\n",
    "* ○の中の数字は、移動するマス数を表します\n",
    "* 数字のない○は何マス移動するか不明（移動しないこともあります）\n",
    "* ○が移動した跡や、他の○のあるところには○を移動できません"
   ]
  },
  {
   "cell_type": "markdown",
   "metadata": {
    "cell_style": "split"
   },
   "source": [
    "### 変数\n",
    "* 省略\n",
    "\n",
    "### 制約\n",
    "* 省略"
   ]
  },
  {
   "cell_type": "code",
   "execution_count": null,
   "metadata": {
    "collapsed": false
   },
   "outputs": [],
   "source": [
    "m = LpProblem()\n",
    "vls = []\n",
    "vo = [[[] for j in range(nw)] for i in range(nh)]\n",
    "cc = [[LpAffineExpression() for j in range(nw)] for i in range(nh)]\n",
    "for y, x, n in hint:\n",
    "    cands = []\n",
    "    if n == 0:\n",
    "        cands.append([(y,x)])\n",
    "    for p, q in product(range(2), range(2)):\n",
    "        dy, dx = p - q, p + q - 1\n",
    "        l = list(takewhile(chk, [(y + dy * k, x + dx * k)\n",
    "                 for k in range(1, 1 + n if n >= 0 else mx)]))\n",
    "        if len(l) > 0 and (n < 0 or len(l) == n):\n",
    "            for k in range(0 if n < 0 else len(l) - 1, len(l)):\n",
    "                cands.append([(y,x)] + l[:k + 1])\n",
    "    v = addbinvars(len(cands))\n",
    "    m += lpSum(v) == 1\n",
    "    for k, cand in enumerate(cands):\n",
    "        vls.append((v[k], cand))\n",
    "        for i, j in cand:\n",
    "            cc[i][j] += v[k]\n",
    "        vo[cand[-1][0]][cand[-1][1]].append(v[k])\n",
    "for i, j in product(range(nh), range(nw)):\n",
    "    m += cc[i][j] <= 1\n",
    "for _, lst in groupby(sorted(zip([c for s in data for c in s],\n",
    "        [j for i in vo for j in i])), lambda x:x[0]):\n",
    "    m += lpSum(j for i in lst for j in i[1]) == 1\n",
    "%time m.solve()\n",
    "for vl, cand in vls:\n",
    "    if value(vl) > 0.5:\n",
    "        d = 1 if cand[0][0] == cand[-1][0] else 0\n",
    "        for i, j in cand[:-1]:\n",
    "            data[i][j] = '|-'[d]\n",
    "        data[cand[-1][0]][cand[-1][1]] = '*'\n",
    "print('\\n'.join(''.join(s) for s in data))"
   ]
  }
 ],
 "metadata": {
  "kernelspec": {
   "display_name": "Python [default]",
   "language": "python",
   "name": "python3"
  },
  "language_info": {
   "codemirror_mode": {
    "name": "ipython",
    "version": 3
   },
   "file_extension": ".py",
   "mimetype": "text/x-python",
   "name": "python",
   "nbconvert_exporter": "python",
   "pygments_lexer": "ipython3",
   "version": "3.5.2"
  }
 },
 "nbformat": 4,
 "nbformat_minor": 2
}
