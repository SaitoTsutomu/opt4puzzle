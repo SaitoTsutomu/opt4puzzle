{
 "cells": [
  {
   "cell_type": "markdown",
   "metadata": {
    "cell_style": "split"
   },
   "source": [
    "<div style='float: right'><img src='pic/stainedglass.png'/></div>\n",
    "## <div id='stainedglass' />ステンドグラス"
   ]
  },
  {
   "cell_type": "code",
   "execution_count": null,
   "metadata": {
    "cell_style": "split",
    "collapsed": true
   },
   "outputs": [],
   "source": [
    "from pulp import *\n",
    "from ortoolpy import addvar, addvars, addbinvar, addbinvars\n",
    "hint = [s.split(',') for s in \"\"\"\\\n",
    "W,0,1,2\n",
    "W,0,3\n",
    "B,0,1,3,4,5\n",
    "B,1,5\n",
    "B,1,2,5,6\n",
    "W,3,4,7\n",
    "G,5,6,9,10\n",
    "G,5,7,8,10\"\"\".split()]\n",
    "np = 11"
   ]
  },
  {
   "cell_type": "markdown",
   "metadata": {
    "cell_style": "split"
   },
   "source": [
    "### 問題\n",
    "* 線で区切られた部分（ピース）のいくつかを黒くぬります\n",
    "* 小さな丸は、その丸が接している周囲のピースのうち、黒ピースと白ピースのどちらの数が多いかを表します\n",
    "* 黒丸なら黒ピースの方が多く、白丸なら白ピースの方が多く、灰色の丸は、同数となります"
   ]
  },
  {
   "cell_type": "markdown",
   "metadata": {
    "cell_style": "split"
   },
   "source": [
    "### 変数\n",
    "* v：パネルごとに黒く塗るかどうか (1)\n",
    "\n",
    "### 制約\n",
    "* 白丸、黒丸、灰色丸ごとに設定 (2)"
   ]
  },
  {
   "cell_type": "code",
   "execution_count": null,
   "metadata": {
    "collapsed": false
   },
   "outputs": [],
   "source": [
    "m = LpProblem()\n",
    "v = addbinvars(np) # (1)\n",
    "for h in hint:\n",
    "    l = [v[int(s)] for s in h[1:]]\n",
    "    if h[0] == 'W':\n",
    "        m += lpSum(l) <= (len(l) - 1) // 2 # (2)\n",
    "    elif h[0] == 'B':\n",
    "        m += lpSum(l) >= (len(l) + 2) // 2 # (2)\n",
    "    else:\n",
    "        m += lpSum(l) == len(l) // 2 # (2)\n",
    "%time m.solve()\n",
    "print('black:', [i for i in range(np) if value(v[i])])"
   ]
  }
 ],
 "metadata": {
  "anaconda-cloud": {},
  "kernelspec": {
   "display_name": "Python [default]",
   "language": "python",
   "name": "python3"
  },
  "language_info": {
   "codemirror_mode": {
    "name": "ipython",
    "version": 3
   },
   "file_extension": ".py",
   "mimetype": "text/x-python",
   "name": "python",
   "nbconvert_exporter": "python",
   "pygments_lexer": "ipython3",
   "version": "3.5.2"
  }
 },
 "nbformat": 4,
 "nbformat_minor": 2
}
