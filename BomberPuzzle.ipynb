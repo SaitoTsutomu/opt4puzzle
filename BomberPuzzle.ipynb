{
 "cells": [
  {
   "cell_type": "markdown",
   "metadata": {
    "cell_style": "split"
   },
   "source": [
    "<div style='float: right'><img src='pic/bomber.png'/></div>\n",
    "## <div id='building' />ボンバーパズル"
   ]
  },
  {
   "cell_type": "code",
   "execution_count": null,
   "metadata": {
    "cell_style": "split",
    "collapsed": true
   },
   "outputs": [],
   "source": [
    "%matplotlib inline\n",
    "import numpy as np, matplotlib.pyplot as plt\n",
    "from pulp import *\n",
    "from ortoolpy import addvar, addvars, addbinvar, addbinvars\n",
    "data = \"\"\"\\\n",
    "12..1\n",
    "..3.1\n",
    ".4.3.\n",
    "..4.2\n",
    "22..2\"\"\".split()\n",
    "nw, nh = len(data[0]), len(data)"
   ]
  },
  {
   "cell_type": "markdown",
   "metadata": {},
   "source": [
    "### 問題\n",
    "* 各数字は周りのマスの●の数\n",
    "\n",
    "### 変数\n",
    "* v：●があるか (1)\n",
    "\n",
    "### 制約\n",
    "* 周りの数と同じ (2)\n",
    "* 数字に●は置かない (3)"
   ]
  },
  {
   "cell_type": "code",
   "execution_count": null,
   "metadata": {
    "collapsed": false
   },
   "outputs": [],
   "source": [
    "m = LpProblem()\n",
    "u = np.zeros((nh+2,nw+2), dtype=object)\n",
    "v = u[1:-1,1:-1] = np.array(addbinvars(nh, nw)) # (1)\n",
    "w = sum(u[i:i+nh,j:j+nw] for i in range(3) for j in range(3))\n",
    "for c, d, e in zip(''.join(data), w.flat, v.flat):\n",
    "    if c.isdigit():\n",
    "        m += lpSum(d) == int(c) # (2)\n",
    "        m += e == 0 # (3)\n",
    "%time m.solve()\n",
    "plt.imshow(np.vectorize(value)(v)!=1, cmap='gray', interpolation='none');"
   ]
  }
 ],
 "metadata": {
  "anaconda-cloud": {},
  "kernelspec": {
   "display_name": "Python [default]",
   "language": "python",
   "name": "python3"
  },
  "language_info": {
   "codemirror_mode": {
    "name": "ipython",
    "version": 3
   },
   "file_extension": ".py",
   "mimetype": "text/x-python",
   "name": "python",
   "nbconvert_exporter": "python",
   "pygments_lexer": "ipython3",
   "version": "3.5.2"
  }
 },
 "nbformat": 4,
 "nbformat_minor": 2
}
