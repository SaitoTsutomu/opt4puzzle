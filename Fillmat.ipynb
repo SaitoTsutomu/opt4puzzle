{
 "cells": [
  {
   "cell_type": "markdown",
   "metadata": {
    "cell_style": "split"
   },
   "source": [
    "<div style='float: right'><img src='pic/fillmat.png'/></div>\n",
    "## <div id='fillmat' />フィルマット"
   ]
  },
  {
   "cell_type": "code",
   "execution_count": null,
   "metadata": {
    "cell_style": "split",
    "collapsed": true
   },
   "outputs": [],
   "source": [
    "from itertools import product\n",
    "from pulp import *\n",
    "from ortoolpy import addvar, addvars, addbinvar, addbinvars\n",
    "data = \"\"\"\\\n",
    "4....\n",
    "2.1..\n",
    "..3.3\n",
    "2....\n",
    "...31\"\"\".split()\n",
    "nw, nh = len(data[0]), len(data)"
   ]
  },
  {
   "cell_type": "markdown",
   "metadata": {
    "cell_style": "split"
   },
   "source": [
    "### 問題\n",
    "* 点線の上にタテヨコに線を引いて、盤面をいくつかの畳（幅１マスで長さ１～４マスの四角形）に区切ります\n",
    "* 数字は、その数字を含む畳の面積を、１マスを１として表します\n",
    "* 数字の入らない畳を作ってもよいが、２つ以上の数字を含む畳を作ってはいけません\n",
    "* 同じ面積の畳をタテヨコに隣り合わせてはいけません\n",
    "* 畳の境界線が十字に交差してはいけません"
   ]
  },
  {
   "cell_type": "markdown",
   "metadata": {
    "cell_style": "split"
   },
   "source": [
    "### 変数\n",
    "* 数字ごとの候補 (1)\n",
    "\n",
    "### 制約\n",
    "* 1つの候補を選ぶ (2)\n",
    "* 4つの角を接する組合せの合計が≦3 (3)\n",
    "* 同じ面積の候補同士で隣り合うものの合計≦1 (4)"
   ]
  },
  {
   "cell_type": "code",
   "execution_count": null,
   "metadata": {
    "collapsed": false
   },
   "outputs": [],
   "source": [
    "m = LpProblem()\n",
    "vls = [] # list of (var, pos_list)\n",
    "cs = [[LpAffineExpression() for j in range(nw)] for i in range(nh)] # cons of pos\n",
    "dic = {} # key:(y_start, x_start, y_len, x_len), value:(var, pos_list)\n",
    "def chk(v, ky):\n",
    "    global m\n",
    "    if ky in dic:\n",
    "        m += v + dic[ky][0] <= 1 # (4)\n",
    "def cand(i, j, n, dy, dx):\n",
    "    p, q = [], []\n",
    "    for k in range(n):\n",
    "        y, x = i + k * dy, j + k * dx\n",
    "        p.append((y,x))\n",
    "        if data[y][x].isdigit():\n",
    "            q.append(int(data[y][x]))\n",
    "    if len(q) >= 2 or (len(q) == 1 and q[0] != n):\n",
    "        return\n",
    "    v = addbinvar() # (1)\n",
    "    for k in range(max(1, n * dx)):\n",
    "        chk(v, (i - 1, j + k - n + 1, 0, n))\n",
    "        chk(v, (i - n, j + k, n, 0))\n",
    "    for k in range(max(1, n * dy)):\n",
    "        chk(v, (i + k, j - n, 0, n))\n",
    "        chk(v, (i + k - n + 1, j - 1, n, 0))\n",
    "    vls.append((v, p))\n",
    "    dic[(i, j, dy*n, dx*n)] = vls[-1]\n",
    "for i, j, k in product(range(nh), range(nw), range(4)):\n",
    "    if i + k < nh:\n",
    "        cand(i, j, k+1, 1, 0)\n",
    "    if k > 0 and j+k < nw:\n",
    "        cand(i, j, k+1, 0, 1)\n",
    "for i, vl in enumerate(vls):\n",
    "    for y, x in vl[1]:\n",
    "        cs[y][x] += vl[0]\n",
    "def chk2(ky1, ky2, ky3, ky4):\n",
    "    global m\n",
    "    if ky1 in dic and ky2 in dic and ky3 in dic and ky4 in dic:\n",
    "        m += dic[ky1][0] + dic[ky2][0] + dic[ky3][0] + dic[ky4][0] <= 3 # (3)\n",
    "for i, j, k in product(range(nh), range(nw), range(4)):\n",
    "    m += cs[i][j] == 1 # (2)\n",
    "    if i == 0 or j == 0:\n",
    "        continue\n",
    "    for k1 in range(1,9):\n",
    "        y1, x1, z1, w1 = (i - k1, j - 1, k1, 0) if k1 < 5 else (i - 1, j - k1 + 4, 0, k1 - 4)\n",
    "        if y1 < 0 or x1 < 0:\n",
    "            continue\n",
    "        for k2 in range(1,9):\n",
    "            y2, x2, z2, w2 = (i, j - 1, k2, 0) if k2 < 5 else (i - 1, j - k2 + 4, 0, k2 - 4)\n",
    "            if y2 + z2 > nh or x2 < 0:\n",
    "                continue\n",
    "            for k3 in range(1,9):\n",
    "                y3, x3, z3, w3 = (i, j, k3, 0) if k3 < 5 else (i, j, 0, k3 - 4)\n",
    "                if y3 + z3 > nh or x3 + w3 > nw:\n",
    "                    continue\n",
    "                for k4 in range(1,9):\n",
    "                    y4, x4, z4, w4 = (i - k4, j, k4, 0) if k4 < 5 else (i - 1, j, 0, k4 - 4)\n",
    "                    if y4 < 0 or x4 + w4 > nw:\n",
    "                        continue\n",
    "                    chk2((y1, x1, z1, w1), (y2, x2, z2, w2), (y3, x3, z3, w3), (y4, x4, z4, w4))\n",
    "%time m.solve()\n",
    "i, ss = 65, [[0]*nw for i in range(nh)]\n",
    "for vl in vls:\n",
    "    if value(vl[0]) > 0.5:\n",
    "        for y, x in vl[1]:\n",
    "            ss[y][x] = chr(i)\n",
    "        i += 1\n",
    "print('\\n'.join(' '.join(s) for s in ss))"
   ]
  }
 ],
 "metadata": {
  "anaconda-cloud": {},
  "kernelspec": {
   "display_name": "Python [default]",
   "language": "python",
   "name": "python3"
  },
  "language_info": {
   "codemirror_mode": {
    "name": "ipython",
    "version": 3
   },
   "file_extension": ".py",
   "mimetype": "text/x-python",
   "name": "python",
   "nbconvert_exporter": "python",
   "pygments_lexer": "ipython3",
   "version": "3.5.2"
  }
 },
 "nbformat": 4,
 "nbformat_minor": 2
}
