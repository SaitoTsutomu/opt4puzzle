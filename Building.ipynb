{
 "cells": [
  {
   "cell_type": "markdown",
   "metadata": {
    "cell_style": "split"
   },
   "source": [
    "<div style='float: right'><img src='pic/building.png'/></div>\n",
    "## <div id='building' />ビルディング"
   ]
  },
  {
   "cell_type": "code",
   "execution_count": null,
   "metadata": {
    "cell_style": "split"
   },
   "outputs": [],
   "source": [
    "import numpy as np\n",
    "from pulp import *\n",
    "from ortoolpy import addvar, addvars, addbinvar, addbinvars\n",
    "data = \"\"\"\\\n",
    "   33  \n",
    " ..... \n",
    " .....5\n",
    "2.....1\n",
    "3.....3\n",
    " .....2\n",
    "  5 13 \"\"\".split('\\n')\n",
    "n = len(data)-2"
   ]
  },
  {
   "cell_type": "markdown",
   "metadata": {},
   "source": [
    "### 問題\n",
    "* 各数字はそのマスに立てられるビルの高さを表します\n",
    "* 各横行に同じ数字は入りません\n",
    "* 各縦列に同じ数字は入りません\n",
    "* 盤面の外側の数字はその数字の書かれている場所から盤面を眺めたときに同じ横行(または縦列)に見えるビルの数を表します\n",
    "\n",
    "### 変数\n",
    "* v：各位置がどの高さか (1)\n",
    "* r：各位置の高さ (2)\n",
    "* u：各方向別の数字のある各列ごとに  (3)\n",
    "\n",
    "### 制約\n",
    "* $v_{ij}$は、1つの高さのみ (4)\n",
    "* rをvで表現 (5)\n",
    "* 縦または横に同じ高さがないこと (6)\n",
    "* 上下左右から見たときにuの合計が「数字-1」(すなわち、高くなるときにｕ==1とします) (7)"
   ]
  },
  {
   "cell_type": "code",
   "execution_count": null,
   "metadata": {},
   "outputs": [],
   "source": [
    "m = LpProblem()\n",
    "v = np.array(addbinvars(n, n, n)) # (1)\n",
    "r = np.array(addvars(n, n)) # (2)\n",
    "def add(m, c, p, q, y, x):\n",
    "    if not c.isdigit():\n",
    "        return\n",
    "    k = int(c)\n",
    "    u = addvars(n-1) # (3)\n",
    "    m += lpSum(u) == k - 1 # (7)\n",
    "    vmx = r[p,q]\n",
    "    for i in range(1,n):\n",
    "        vnx = r[p + y*i][q + x*i]\n",
    "        m += vmx + n * u[i-1] >= vnx + 1 # (7)\n",
    "        m += vmx + 1 <= vnx + n - n * u[i-1] # (7)\n",
    "        vtm = addvar()\n",
    "        m += vmx <= vtm # (7)\n",
    "        m += vnx <= vtm # (7)\n",
    "        vmx = vtm\n",
    "    m += vmx <= n # (7)\n",
    "for i in range(n):\n",
    "    for j in range(n):\n",
    "        m += lpSum(v[i,j,:]) == 1 # (4)\n",
    "        m += lpDot(range(n), v[i,j]) + 1 == r[i,j] # (5)\n",
    "        m += lpSum(v[i,:,j]) == 1 # (6)\n",
    "        m += lpSum(v[:,i,j]) == 1 # (6)\n",
    "    add(m, data[i+1][  0],   i,   0,  0,  1)\n",
    "    add(m, data[i+1][n+1],   i, n-1,  0, -1)\n",
    "    add(m, data[  0][i+1],   0,   i,  1,  0)\n",
    "    add(m, data[n+1][i+1], n-1,   i, -1,  0)\n",
    "%time m.solve()\n",
    "np.vectorize(value)(r).astype(int).tolist()"
   ]
  }
 ],
 "metadata": {
  "anaconda-cloud": {},
  "kernelspec": {
   "display_name": "Python 3",
   "language": "python",
   "name": "python3"
  },
  "language_info": {
   "codemirror_mode": {
    "name": "ipython",
    "version": 3
   },
   "file_extension": ".py",
   "mimetype": "text/x-python",
   "name": "python",
   "nbconvert_exporter": "python",
   "pygments_lexer": "ipython3",
   "version": "3.6.1"
  }
 },
 "nbformat": 4,
 "nbformat_minor": 1
}
