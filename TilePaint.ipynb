{
 "cells": [
  {
   "cell_type": "markdown",
   "metadata": {
    "cell_style": "split"
   },
   "source": [
    "<div style='float: right'><img src='pic/tile.png'/></div>\n",
    "## <div id='tile' />タイルペイント"
   ]
  },
  {
   "cell_type": "code",
   "execution_count": null,
   "metadata": {
    "cell_style": "split",
    "collapsed": false
   },
   "outputs": [],
   "source": [
    "%matplotlib inline\n",
    "import numpy as np, matplotlib.pyplot as plt\n",
    "from itertools import groupby, islice\n",
    "from pulp import *\n",
    "from ortoolpy import addvar, addvars, addbinvar, addbinvars\n",
    "data = \"\"\"\\\n",
    "ABCD\n",
    "EBFF\n",
    "GHHI\n",
    "JKLI\n",
    "\"\"\".split()\n",
    "hint = [[1,4,1,2],[1,2,3,2]]\n",
    "nw, nh = len(data[0]), len(data)"
   ]
  },
  {
   "cell_type": "markdown",
   "metadata": {},
   "source": [
    "### 問題\n",
    "* 盤面上にある、太線で区切られた部分（タイルと呼ぶ）のいくつかを黒くぬります\n",
    "* 盤面の数字は、その右あるいは下の、外周か次の斜線のマスまでの区切られた一列のうちで、黒くぬられるマスの数を表します\n",
    "* どのタイルも、すべてのマスをぬるかすべてのマスをぬらずにおくかのどちらかとし、タイルの一部のマスだけをぬってはいけません\n",
    "\n",
    "### 変数\n",
    "* v：黒かどうか (1)\n",
    "\n",
    "### 制約\n",
    "* 縦及び横のヒントの数に等しい (2)\n",
    "* タイルは全部塗るか塗らないか（バイナリ変数不要）(3)"
   ]
  },
  {
   "cell_type": "code",
   "execution_count": null,
   "metadata": {
    "collapsed": false
   },
   "outputs": [],
   "source": [
    "m = LpProblem()\n",
    "v = np.array(addbinvars(nh, nw)) # (1)\n",
    "for i in range(nh):\n",
    "    m += lpSum(v[i,:]) == hint[1][i] # (2)\n",
    "for j in range(nw):\n",
    "    m += lpSum(v[:,j]) == hint[0][j] # (2)\n",
    "for _, d in groupby(sorted(zip(''.join(data), v.flat)), lambda x:x[0]):\n",
    "    d = list(d)\n",
    "    for vi, vj in zip(d, d[1:]):\n",
    "        m += vi[1] == vj[1] # (3)\n",
    "%time m.solve()\n",
    "plt.imshow(1-np.vectorize(value)(v), cmap='gray', interpolation='none');"
   ]
  }
 ],
 "metadata": {
  "anaconda-cloud": {},
  "kernelspec": {
   "display_name": "Python [default]",
   "language": "python",
   "name": "python3"
  },
  "language_info": {
   "codemirror_mode": {
    "name": "ipython",
    "version": 3
   },
   "file_extension": ".py",
   "mimetype": "text/x-python",
   "name": "python",
   "nbconvert_exporter": "python",
   "pygments_lexer": "ipython3",
   "version": "3.5.2"
  }
 },
 "nbformat": 4,
 "nbformat_minor": 1
}
