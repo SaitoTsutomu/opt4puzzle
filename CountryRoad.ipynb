{
 "cells": [
  {
   "cell_type": "markdown",
   "metadata": {
    "cell_style": "split"
   },
   "source": [
    "<div style='float: right'><img src='pic/countryroad.png'/></div>\n",
    "## <div id='countryroad' />カントリーロード"
   ]
  },
  {
   "cell_type": "code",
   "execution_count": null,
   "metadata": {
    "cell_style": "split",
    "collapsed": true
   },
   "outputs": [],
   "source": [
    "import numpy as np\n",
    "from collections import defaultdict\n",
    "from itertools import chain, groupby, product\n",
    "from pulp import *\n",
    "from unionfind import unionfind\n",
    "from ortoolpy import addvar, addvars, addbinvar, addbinvars\n",
    "data = np.array([list(s) for s in \"\"\"\\\n",
    "AABBBBC\n",
    "AADDBEF\n",
    "GHHDBEF\n",
    "IHHJKKF\n",
    "ILMNKKO\n",
    "ILMNNPP\n",
    "QMMMMPP\"\"\".split()])\n",
    "nums = {'A':4, 'E':1, 'F':3, 'H':2, 'I':1, 'K':4}\n",
    "nw, nh = len(data[0]), len(data)"
   ]
  },
  {
   "cell_type": "markdown",
   "metadata": {
    "cell_style": "split"
   },
   "source": [
    "### 問題\n",
    "* いくつかのマスに線を引き、１つの輪を作ります\n",
    "* 線は、交差や枝分かれしてはいけません\n",
    "* 太線で区切られたところ（国と呼ぶ）すべてを１回ずつだけ通ります\n",
    "* 数字は、その数字がある国を線が通るマス数を表します\n",
    "* 数字のない国には、何マスでもよいです\n",
    "* 線が通らないマスが、太線（国境）をはさんでタテヨコに隣接してはいけません"
   ]
  },
  {
   "cell_type": "markdown",
   "metadata": {
    "cell_style": "split"
   },
   "source": [
    "### 変数\n",
    "* vh：0:L, 1:R (1)\n",
    "* vv：0:U, 1:D (2)\n",
    "* vhs (3), vvs (4)\n",
    "\n",
    "### 制約\n",
    "* vh,vv,vhs,vvsの関係 (5)\n",
    "* 入る数と出る数が同じであること (6)\n",
    "* 交差なし (7)\n",
    "* 国違いならどちらかに道 (8)\n",
    "* 指定した数と同じ道数 (9)\n",
    "* 国に入る数は1 (10)\n",
    "* 1つの輪 (11)"
   ]
  },
  {
   "cell_type": "code",
   "execution_count": null,
   "metadata": {
    "cell_style": "split",
    "collapsed": false,
    "scrolled": false
   },
   "outputs": [],
   "source": [
    "m = LpProblem()\n",
    "vh = np.array(addbinvars(nh, nw+1, 2)) # 0:L, 1:R (1)\n",
    "vv = np.array(addbinvars(nh+1, nw, 2)) # 0:U, 1:D (2)\n",
    "vhs = np.array(addvars(nh, nw+1)) # (3)\n",
    "vvs = np.array(addvars(nh+1, nw)) # (4)\n",
    "vhs[:,0] = vhs[:,nw] = vvs[0,:] = vvs[nh,:] = 0 # (5)\n",
    "w = vhs[:,:-1]+vhs[:,1:]+vvs[:-1,:]+vvs[1:,:]\n",
    "for e1, e2 in chain(zip(vh.sum(2).flat, vhs.flat),\n",
    "                    zip(vv.sum(2).flat, vvs.flat)):\n",
    "    m += lpSum(e1) == e2 # (5)\n",
    "    m += e2 <= 1 # (5)\n",
    "dc = defaultdict(list)\n",
    "for i, j in product(range(nh), range(nw)):\n",
    "    m += lpSum(vv[i+k,j,k]-vv[i+k,j,1-k]+vh[i,j+k,k]\n",
    "        -vh[i,j+k,1-k] for k in range(2)) == 0 # (6)\n",
    "    m += w[i,j] <= 2 # (7)\n",
    "    if i and data[i-1][j] != data[i][j]:\n",
    "        m += w[i-1,j]+w[i,j] >= 1 # (8)\n",
    "        dc[data[i-1][j]].append(vv[i][j][0])\n",
    "        dc[data[i][j]].append(vv[i][j][1])\n",
    "    if j and data[i][j-1] != data[i][j]:\n",
    "        m += w[i,j-1]+w[i,j] >= 1 # (8)\n",
    "        dc[data[i][j-1]].append(vh[i][j][0])\n",
    "        dc[data[i][j]].append(vh[i][j][1])\n",
    "for k, d in groupby(sorted(zip(data.flat, w.flat)),\n",
    "                    lambda x:x[0]):\n",
    "   if k in nums:\n",
    "        m += lpSum(c[1] for c in d) == 2*nums[k] # (9)\n",
    "for d in dc.values():\n",
    "    m += lpSum(d) == 1 # (10)"
   ]
  },
  {
   "cell_type": "code",
   "execution_count": null,
   "metadata": {
    "cell_style": "split",
    "collapsed": false
   },
   "outputs": [],
   "source": [
    "while True:\n",
    "    %time m.solve()\n",
    "    rhs = np.vectorize(value)(vhs)\n",
    "    rvs = np.vectorize(value)(vvs)\n",
    "    if m.status != 1: break\n",
    "    u = unionfind(nh * nw)\n",
    "    for i, j in product(range(nh), range(nw)):\n",
    "        if i and rvs[i,j]:\n",
    "            u.unite(j+i*nw-nw, j+i*nw)\n",
    "        if j and rhs[i,j]:\n",
    "            u.unite(j-1+i*nw, j+i*nw)\n",
    "    if sum(1 for gr in u.groups() if len(gr) > 1) == 1:\n",
    "        break\n",
    "    m += (lpSum(vh[rhs>0])+lpSum(vv[rvs>0])\n",
    "        <= (rhs>0).sum() + (rvs>0).sum() - 1) # (11)\n",
    "r = ((rvs[:-1,:]>0)+2*(rhs[:,:-1]>0)\n",
    "  +4*(rvs[1:,:]>0)+8*(rhs[:,1:]>0))\n",
    "print('\\n'.join(''.join(s) for s in np.vectorize(\n",
    "    lambda x: '　12┘4│┐78└─1┌34┼'[x])(r)))"
   ]
  }
 ],
 "metadata": {
  "kernelspec": {
   "display_name": "Python [default]",
   "language": "python",
   "name": "python3"
  },
  "language_info": {
   "codemirror_mode": {
    "name": "ipython",
    "version": 3
   },
   "file_extension": ".py",
   "mimetype": "text/x-python",
   "name": "python",
   "nbconvert_exporter": "python",
   "pygments_lexer": "ipython3",
   "version": "3.5.2"
  }
 },
 "nbformat": 4,
 "nbformat_minor": 2
}
