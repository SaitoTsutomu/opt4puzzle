{
 "cells": [
  {
   "cell_type": "markdown",
   "metadata": {
    "cell_style": "split"
   },
   "source": [
    "<div style='float: right'><img src='pic/shakashaka.png'/></div>\n",
    "## <div id='shakashaka' />シャカシャカ"
   ]
  },
  {
   "cell_type": "code",
   "execution_count": null,
   "metadata": {
    "cell_style": "split",
    "collapsed": true
   },
   "outputs": [],
   "source": [
    "import numpy as np\n",
    "from itertools import product\n",
    "from pulp import *\n",
    "from ortoolpy import addvar, addvars, addbinvar, addbinvars\n",
    "data = \"\"\"\\\n",
    "2..2...3..\n",
    "..........\n",
    ".........3\n",
    ".*...0....\n",
    "..3.......\n",
    ".....3..3.\n",
    "2.0.......\n",
    ".........1\n",
    ".......1..\n",
    "2..3...0..\"\"\".split('\\n')\n",
    "nw, nh = len(data[0]), len(data)"
   ]
  },
  {
   "cell_type": "markdown",
   "metadata": {
    "cell_style": "split"
   },
   "source": [
    "### 問題\n",
    "* 盤面のいくつかの白マスを三角形に黒くぬりつぶします\n",
    "* マスのぬり方は4通りのいずれかです\n",
    "* 盤面の数字は、その数字の入っているマスにタテヨコに隣り合うマスのうち、三角形にぬるマスの数を表します\n",
    "* ぬられずに残った部分は、すべて長方形となります"
   ]
  },
  {
   "cell_type": "markdown",
   "metadata": {
    "cell_style": "split"
   },
   "source": [
    "### 変数\n",
    "* va (1)\n",
    "\n",
    "### 制約\n",
    "* $va_{ij}$は１つのみ (2)\n",
    "* 数字か■なら$va_{ij5}$==1 (3)\n",
    "* 数字なら周りの斜めの合計と同じ (4)\n",
    "* 画面端で可能な形の指定 (5)\n",
    "* 右や下との境で合わない物通しの禁止 (6)\n",
    "* 白と三角2つの禁止 (7)"
   ]
  },
  {
   "cell_type": "code",
   "execution_count": null,
   "metadata": {
    "collapsed": false
   },
   "outputs": [],
   "source": [
    "m = LpProblem()\n",
    "u = np.zeros((nh+2, nw+2, 6), dtype=object)\n",
    "va = u[1:-1,1:-1] = np.array(addbinvars(nh, nw, 6)) # (1)\n",
    "w = (u[1:-1,:-2]+u[1:-1,2:]+u[:-2,1:-1]+u[2:,1:-1])[:,:,1:5]\n",
    "for i, j in product(range(nh), range(nw)):\n",
    "    v = va[i,j].tolist()\n",
    "    m += lpSum(v) == 1 # (2)\n",
    "    if data[i][j] != '.':\n",
    "        m += v[5] == 1 # (3)\n",
    "        if data[i][j].isdigit():\n",
    "            m += lpSum(w[i,j]) == int(data[i][j]) # (4)\n",
    "    if i == 0:\n",
    "        m += v[0]+lpSum(v[3:5]) == 0 # (5)\n",
    "    if j == 0:\n",
    "        m += v[0]+lpSum(v[2:4]) == 0 # (5)\n",
    "    if i == nh-1:\n",
    "        m += v[0]+lpSum(v[1:3]) == 0 # (5)\n",
    "    if j == nw-1:\n",
    "        m += v[0]+lpSum(v[1:5:3]) == 0 # (5)\n",
    "    if i > 0:\n",
    "        m += lpSum(v[0]+v[3:5]) + lpSum(va[i-1,j,3:6]) <= 1 # 白黒(6)\n",
    "        m += lpSum(v[1:3]+v[5]) + lpSum(va[i-1,j,:3])  <= 1 # 黒白(6)\n",
    "    if j > 0:\n",
    "        m += lpSum(v[0]+v[2:4])   + lpSum(va[i,j-1,2:4])+va[i,j-1,5]   <= 1 # 白黒(6)\n",
    "        m += lpSum(v[1:5:3]+v[5]) + va[i,j-1,0]+lpSum(va[i,j-1,1:5:3]) <= 1 # 黒白(6)\n",
    "for i, j in product(range(nh-1), range(nw-1)):\n",
    "    for ll in [[0,3,0,2],[0,0,3,4],[4,0,1,0],[2,1,0,0]]:\n",
    "        m += lpSum(va[i+k//2,j+k%2,ll[k]] for k in range(4)) <= 3 # (7)\n",
    "%time m.solve()\n",
    "r = np.vectorize(value)(va).astype(int).dot(range(6))\n",
    "for i in range(nh):\n",
    "    for j in range(nw):\n",
    "        print(' %c'%data[i][j] if data[i][j] != '.'\n",
    "              else '　┛┗┏┓■'[r[i,j]], end='')\n",
    "    print()"
   ]
  }
 ],
 "metadata": {
  "anaconda-cloud": {},
  "kernelspec": {
   "display_name": "Python [default]",
   "language": "python",
   "name": "python3"
  },
  "language_info": {
   "codemirror_mode": {
    "name": "ipython",
    "version": 3
   },
   "file_extension": ".py",
   "mimetype": "text/x-python",
   "name": "python",
   "nbconvert_exporter": "python",
   "pygments_lexer": "ipython3",
   "version": "3.5.2"
  }
 },
 "nbformat": 4,
 "nbformat_minor": 2
}
