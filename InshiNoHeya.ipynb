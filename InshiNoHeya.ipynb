{
 "cells": [
  {
   "cell_type": "markdown",
   "metadata": {
    "cell_style": "split"
   },
   "source": [
    "<div style='float: right'><img src='pic/inshi.png'/></div>\n",
    "## <div id='inshi' />因子の部屋"
   ]
  },
  {
   "cell_type": "code",
   "execution_count": null,
   "metadata": {
    "cell_style": "split",
    "collapsed": true
   },
   "outputs": [],
   "source": [
    "import numpy as np\n",
    "from itertools import groupby, product\n",
    "from more_itertools import first\n",
    "from pulp import *\n",
    "from math import log\n",
    "from ortoolpy import addvar, addvars, addbinvar, addbinvars\n",
    "data = \"\"\"\\\n",
    "ABBCD\n",
    "AEEFD\n",
    "GGHFD\n",
    "IJHKK\n",
    "ILHMM\"\"\".split()\n",
    "nums = [6, 15, 1, 12, 20, 8, 10, 6, 4, 4, 15, 1, 10]\n",
    "nn = len(data)\n",
    "assert len(data[0]) == nn"
   ]
  },
  {
   "cell_type": "markdown",
   "metadata": {},
   "source": [
    "### 問題\n",
    "* すべてのマスに１からNまでの数字のどれかを１つずつ入ります（０は使いません）\n",
    "* タテ列、ヨコ列のどれにも、１からNまでの数字が１つずつ入ります\n",
    "* 太線で囲まれた四角形（部屋）の左上のマスに小さく書かれている数は、その部屋の各マスに入る数をすべてかけあわせた値となります\n",
    "\n",
    "### 変数\n",
    "* v：各マスでその数字かどうか (1)\n",
    "* r：マスの数字 (2)\n",
    "\n",
    "### 制約\n",
    "* $v_{ij}$は1つの数字のみ (3)\n",
    "* rをvで表す (4)\n",
    "* 縦および横で同じ数字はない (5)\n",
    "* 積が指定した数字 (6)"
   ]
  },
  {
   "cell_type": "code",
   "execution_count": null,
   "metadata": {
    "collapsed": false
   },
   "outputs": [],
   "source": [
    "m = LpProblem()\n",
    "v = np.array(addbinvars(nn, nn, nn)) # (1)\n",
    "r = np.array(addvars(nn, nn)) # (2)\n",
    "for i, j in product(range(nn), range(nn)):\n",
    "    m += lpSum(v[i,j]) == 1 # (3)\n",
    "    m += lpDot(range(nn), v[i,j]) + 1 == r[i,j] # (4)\n",
    "    m += lpSum(v[i,:,j]) == 1 # (5)\n",
    "    m += lpSum(v[:,i,j]) == 1 # (5)\n",
    "g = groupby(sorted(zip(''.join(data), v.reshape(-1,nn)), key=first), first)\n",
    "for i, (_, d) in enumerate(g):\n",
    "    e = lpSum(log(k+1)*e[1][k] for e in d for k in range(nn)) - log(nums[i])\n",
    "    m += e >= -0.0001 # (6)\n",
    "    m += e <=  0.0001 # (6)\n",
    "%time m.solve()\n",
    "np.vectorize(value)(r).astype(int).tolist()"
   ]
  }
 ],
 "metadata": {
  "anaconda-cloud": {},
  "kernelspec": {
   "display_name": "Python [default]",
   "language": "python",
   "name": "python3"
  },
  "language_info": {
   "codemirror_mode": {
    "name": "ipython",
    "version": 3
   },
   "file_extension": ".py",
   "mimetype": "text/x-python",
   "name": "python",
   "nbconvert_exporter": "python",
   "pygments_lexer": "ipython3",
   "version": "3.5.2"
  }
 },
 "nbformat": 4,
 "nbformat_minor": 1
}
