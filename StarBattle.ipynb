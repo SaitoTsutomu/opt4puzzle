{
 "cells": [
  {
   "cell_type": "markdown",
   "metadata": {
    "cell_style": "split"
   },
   "source": [
    "<div style='float: right'><img src='pic/starbattle.png'/></div>\n",
    "## <div id='building' />スターバトル"
   ]
  },
  {
   "cell_type": "code",
   "execution_count": null,
   "metadata": {
    "cell_style": "split",
    "collapsed": true
   },
   "outputs": [],
   "source": [
    "%matplotlib inline\n",
    "import numpy as np, matplotlib.pyplot as plt\n",
    "from itertools import groupby, product\n",
    "from pulp import *\n",
    "from ortoolpy import addvar, addvars, addbinvar, addbinvars\n",
    "data = \"\"\"\\\n",
    "AABBB\n",
    "AABCC\n",
    "ADDDC\n",
    "DDECC\n",
    "EEEEC\"\"\".split()\n",
    "nn = len(data)"
   ]
  },
  {
   "cell_type": "markdown",
   "metadata": {},
   "source": [
    "### 問題\n",
    "* 各行、各列、各エリアに★をちょうど1つ置く。\n",
    "* ★の周り(8か所)に★は置けない\n",
    "\n",
    "### 変数\n",
    "* v：★があるか (1)\n",
    "\n",
    "### 制約\n",
    "* 各行(2)、各列(3)、各エリア(4)に1つ\n",
    "* 2x2に1以下 (5)"
   ]
  },
  {
   "cell_type": "code",
   "execution_count": null,
   "metadata": {
    "collapsed": false
   },
   "outputs": [],
   "source": [
    "m = LpProblem()\n",
    "v = np.array(addbinvars(nn, nn)) # (1)\n",
    "for i in range(nn):\n",
    "    m += lpSum(v[i,:]) == 1 # (2)\n",
    "    m += lpSum(v[:,i]) == 1 # (3)\n",
    "for _, d in groupby(sorted(zip(''.join(data), v.flat)), lambda x:x[0]):\n",
    "    m += lpSum(c[1] for c in d) == 1 # (4)\n",
    "for i, j in product(range(nn-1), range(nn-1)):\n",
    "    m += lpSum(v[i:i+2,j:j+2]) <= 1 # (5)\n",
    "%time m.solve()\n",
    "plt.imshow(np.vectorize(value)(v)!=1, cmap='gray', interpolation='none');"
   ]
  }
 ],
 "metadata": {
  "anaconda-cloud": {},
  "kernelspec": {
   "display_name": "Python [default]",
   "language": "python",
   "name": "python3"
  },
  "language_info": {
   "codemirror_mode": {
    "name": "ipython",
    "version": 3
   },
   "file_extension": ".py",
   "mimetype": "text/x-python",
   "name": "python",
   "nbconvert_exporter": "python",
   "pygments_lexer": "ipython3",
   "version": "3.5.2"
  }
 },
 "nbformat": 4,
 "nbformat_minor": 2
}
